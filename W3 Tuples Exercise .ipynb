{
 "cells": [
  {
   "cell_type": "markdown",
   "id": "8a544b70",
   "metadata": {},
   "source": [
    "# WELCOME TO TUPLES EXERCISE"
   ]
  },
  {
   "cell_type": "markdown",
   "id": "a7f499af",
   "metadata": {},
   "source": [
    "1. Write a Python program to create a tuple. "
   ]
  },
  {
   "cell_type": "code",
   "execution_count": 6,
   "id": "d12b3a1e",
   "metadata": {},
   "outputs": [
    {
     "data": {
      "text/plain": [
       "((1, 2, 3, 4, 5, 6), tuple)"
      ]
     },
     "execution_count": 6,
     "metadata": {},
     "output_type": "execute_result"
    }
   ],
   "source": [
    "a = (1,2,3,4,5,6)\n",
    "a,type(a)"
   ]
  },
  {
   "cell_type": "markdown",
   "id": "b2a9ad1b",
   "metadata": {},
   "source": [
    "1. Write a Python program to create a tuple with different data types"
   ]
  },
  {
   "cell_type": "code",
   "execution_count": 15,
   "id": "797b1a91",
   "metadata": {},
   "outputs": [],
   "source": [
    "a = (1,2,2)\n",
    "b = (2.3,3.4)\n",
    "c = ('shree',',manju')\n",
    "d = (False,True)"
   ]
  },
  {
   "cell_type": "markdown",
   "id": "19c5e4e2",
   "metadata": {},
   "source": [
    " 3. Write a Python program to create a tuple with numbers and print one item"
   ]
  },
  {
   "cell_type": "code",
   "execution_count": 25,
   "id": "78bb920e",
   "metadata": {},
   "outputs": [
    {
     "name": "stdout",
     "output_type": "stream",
     "text": [
      "(10, 20, 30, 50)\n"
     ]
    },
    {
     "data": {
      "text/plain": [
       "tuple"
      ]
     },
     "execution_count": 25,
     "metadata": {},
     "output_type": "execute_result"
    }
   ],
   "source": [
    "# create a tuple with numbers\n",
    "\n",
    "a = (10,20,30,50)\n",
    "print(a)\n",
    "\n",
    "# create tuple of one item \n",
    "\n",
    "b = (5,)\n",
    "type(b)"
   ]
  },
  {
   "cell_type": "markdown",
   "id": "27b687a3",
   "metadata": {},
   "source": [
    "3. Write a Python program to unpack a tuple in several variables. "
   ]
  },
  {
   "cell_type": "code",
   "execution_count": 30,
   "id": "f6ad6419",
   "metadata": {},
   "outputs": [
    {
     "name": "stdout",
     "output_type": "stream",
     "text": [
      "1 2 3 4\n"
     ]
    }
   ],
   "source": [
    "# create a tuple\n",
    "\n",
    "a = 1,2,3,4\n",
    "\n",
    "# unpack the tuple with a variable \n",
    "\n",
    "a1,a2,a3,a4 = a\n",
    "\n",
    "print(a1,a2,a3,a4)"
   ]
  },
  {
   "cell_type": "markdown",
   "id": "60b62c93",
   "metadata": {},
   "source": [
    "4. Write a Python program to add an item in a tuple"
   ]
  },
  {
   "cell_type": "code",
   "execution_count": 31,
   "id": "0453c4df",
   "metadata": {},
   "outputs": [
    {
     "data": {
      "text/plain": [
       "(1, 2, 3, 4, 5, 6)"
      ]
     },
     "execution_count": 31,
     "metadata": {},
     "output_type": "execute_result"
    }
   ],
   "source": [
    "# Tuples are immutable\n",
    "a = (1,2,3)\n",
    "b = (4,5,6)\n",
    "c = a+b\n",
    "c"
   ]
  },
  {
   "cell_type": "code",
   "execution_count": 37,
   "id": "4500a468",
   "metadata": {},
   "outputs": [
    {
     "data": {
      "text/plain": [
       "(1, 2, 3, 4, 5, 6, 7, 8, 12, 13, 14, 15)"
      ]
     },
     "execution_count": 37,
     "metadata": {},
     "output_type": "execute_result"
    }
   ],
   "source": [
    "a = 1,2,3,4,5,6,7,8\n",
    "\n",
    "a[:4] + (9,10,11)\n",
    "\n",
    "a[:9] + (12,13,14,15)"
   ]
  },
  {
   "cell_type": "code",
   "execution_count": 40,
   "id": "ddd6180d",
   "metadata": {},
   "outputs": [],
   "source": [
    "lists = list(a)"
   ]
  },
  {
   "cell_type": "code",
   "execution_count": 43,
   "id": "5dc10ee1",
   "metadata": {},
   "outputs": [],
   "source": [
    "lists.append([20,30,40,50])"
   ]
  },
  {
   "cell_type": "code",
   "execution_count": 44,
   "id": "d4078091",
   "metadata": {},
   "outputs": [
    {
     "data": {
      "text/plain": [
       "[1, 2, 3, 4, 5, 6, 7, 8, [20, 30, 40, 50], [20, 30, 40, 50]]"
      ]
     },
     "execution_count": 44,
     "metadata": {},
     "output_type": "execute_result"
    }
   ],
   "source": [
    "lists"
   ]
  },
  {
   "cell_type": "markdown",
   "id": "a3f17c48",
   "metadata": {},
   "source": [
    "5. Write a Python program to convert a tuple to a string"
   ]
  },
  {
   "cell_type": "code",
   "execution_count": 48,
   "id": "405e92f5",
   "metadata": {},
   "outputs": [
    {
     "data": {
      "text/plain": [
       "str"
      ]
     },
     "execution_count": 48,
     "metadata": {},
     "output_type": "execute_result"
    }
   ],
   "source": [
    "# Tuple\n",
    "\n",
    "a = 1,2,3,4,5\n",
    "\n",
    "type(a)\n",
    "\n",
    "# convert to string\n",
    "\n",
    "b = str(a)\n",
    "type(b)"
   ]
  },
  {
   "cell_type": "markdown",
   "id": "d304322c",
   "metadata": {},
   "source": [
    "6. Write a Python program to get the 4th element and 4th element from last of a tuple."
   ]
  },
  {
   "cell_type": "code",
   "execution_count": 52,
   "id": "b7bec8ea",
   "metadata": {},
   "outputs": [
    {
     "data": {
      "text/plain": [
       "(4, 7)"
      ]
     },
     "execution_count": 52,
     "metadata": {},
     "output_type": "execute_result"
    }
   ],
   "source": [
    "# Tuple, get the 4th element from the tuple\n",
    "tuples = 1,2,3,4,5,6,7,8,9,10\n",
    "\n",
    "# 4th element and 4th element from the last \n",
    "tuples[3],tuples[-4]"
   ]
  },
  {
   "cell_type": "markdown",
   "id": "5275e9d6",
   "metadata": {},
   "source": [
    "7. Write a Python program to create the colon of a tuple"
   ]
  },
  {
   "cell_type": "code",
   "execution_count": 55,
   "id": "59fbcfdd",
   "metadata": {},
   "outputs": [
    {
     "name": "stdout",
     "output_type": "stream",
     "text": [
      "('Hello', 5, [], True)\n",
      "('Hello', 5, [50], True)\n"
     ]
    }
   ],
   "source": [
    "# create a tuple\n",
    "a = ('Hello', 5,[],True)\n",
    "# make a copy by using deepcopy\n",
    "\n",
    "from copy import deepcopy\n",
    "a_colon = deepcopy(a)\n",
    "a_colon[2].append(50)\n",
    "\n",
    "print(a)\n",
    "print(a_colon)"
   ]
  },
  {
   "cell_type": "code",
   "execution_count": 91,
   "id": "2838fd19",
   "metadata": {},
   "outputs": [
    {
     "name": "stdout",
     "output_type": "stream",
     "text": [
      "banana\n",
      "apple\n",
      "pineapple\n"
     ]
    }
   ],
   "source": [
    "## another method for unpacking\n",
    "\n",
    "fruits = ('banana', 'apple', 'pineapple') # this is called packing\n",
    "\n",
    "yellow, green_apple, green = fruits \n",
    "\n",
    "print(yellow)\n",
    "print(green_apple)\n",
    "print(green)\n",
    "\n",
    "# This is called as unpacking, but here number of variable must be match with number of values"
   ]
  },
  {
   "cell_type": "code",
   "execution_count": 92,
   "id": "c8914022",
   "metadata": {},
   "outputs": [
    {
     "name": "stdout",
     "output_type": "stream",
     "text": [
      "apple\n",
      "banana\n",
      "['cherry', 'strawberry', 'raspberry']\n"
     ]
    }
   ],
   "source": [
    "fruits = (\"apple\", \"banana\", \"cherry\", \"strawberry\", \"raspberry\")\n",
    "\n",
    "(green, yellow, *red) = fruits\n",
    "\n",
    "print(green)\n",
    "print(yellow)\n",
    "print(red)\n",
    "\n",
    "# If the number of variables is less than the number of values, you can add an * to the variable name"
   ]
  },
  {
   "cell_type": "markdown",
   "id": "66776d88",
   "metadata": {},
   "source": [
    "8. Write a Python program to find the repeated items of a tuple."
   ]
  },
  {
   "cell_type": "code",
   "execution_count": 85,
   "id": "8e15b33e",
   "metadata": {},
   "outputs": [
    {
     "data": {
      "text/plain": [
       "3"
      ]
     },
     "execution_count": 85,
     "metadata": {},
     "output_type": "execute_result"
    }
   ],
   "source": [
    "# Create a tuple \n",
    "a = 1,2,3,4,5,6,7,1,2,3,4,1,2\n",
    "\n",
    "# Find out the repeated value in the tuple \n",
    "count = a.count(1)\n",
    "count"
   ]
  },
  {
   "cell_type": "markdown",
   "id": "bc4f96ce",
   "metadata": {},
   "source": [
    "9. Write a Python program to check whether an element exists within a tuple"
   ]
  },
  {
   "cell_type": "code",
   "execution_count": 95,
   "id": "69b18e70",
   "metadata": {},
   "outputs": [
    {
     "data": {
      "text/plain": [
       "(True, False)"
      ]
     },
     "execution_count": 95,
     "metadata": {},
     "output_type": "execute_result"
    }
   ],
   "source": [
    "# Create a tuple \n",
    "\n",
    "city_name = ('Bengaluru','Mysore','Vijayapura','Belagavi')\n",
    "\n",
    "# Check whether given element exists in the tuple or not \n",
    "\n",
    "'Bengaluru' in city_name, 'Tumkur' in city_name"
   ]
  },
  {
   "cell_type": "markdown",
   "id": "91776638",
   "metadata": {},
   "source": [
    "10. Write a Python program to convert a list to a tuple"
   ]
  },
  {
   "cell_type": "code",
   "execution_count": 98,
   "id": "fe23cfcc",
   "metadata": {},
   "outputs": [
    {
     "name": "stdout",
     "output_type": "stream",
     "text": [
      "<class 'list'>\n",
      "<class 'tuple'>\n"
     ]
    }
   ],
   "source": [
    "# Craete a list and convert list to Tuple\n",
    "lists = ['Karnataka','Kerala','Tamil Nadu', 'Assam']\n",
    "\n",
    "tup = tuple(lists)\n",
    "\n",
    "print(type(lists))\n",
    "print(type(tuple(lists)))"
   ]
  },
  {
   "cell_type": "markdown",
   "id": "a0081fa8",
   "metadata": {},
   "source": [
    "11. Write a Python program to remove an item from a tuple"
   ]
  },
  {
   "cell_type": "code",
   "execution_count": 116,
   "id": "b5e27b62",
   "metadata": {},
   "outputs": [
    {
     "name": "stdout",
     "output_type": "stream",
     "text": [
      "Original : ('Kannada', 'Telugu', 'Tamil', 'Malayalam', 'Hinid')\n",
      "remove item : ['Kannada', 'Telugu', 'Malayalam', 'Hinid']\n",
      "('Kannada', 'Telugu', 'Malayalam', 'Hinid')\n"
     ]
    }
   ],
   "source": [
    "language = ('Kannada','Telugu', 'Tamil','Malayalam', 'Hinid')\n",
    "\n",
    "# Tuples are immutable, you can convert it to list then remove it\n",
    "\n",
    "lis_lang = list(language)\n",
    "\n",
    "# Now remove a item from it then convert back it to tuple \n",
    "\n",
    "lis_lang.remove('Tamil')\n",
    "\n",
    "print('Original :',language)\n",
    "print('remove item :',lis_lang)\n",
    "print(tuple(lis_lang))"
   ]
  },
  {
   "cell_type": "markdown",
   "id": "f613e52c",
   "metadata": {},
   "source": [
    "12. Write a Python program to slice a tuple"
   ]
  },
  {
   "cell_type": "code",
   "execution_count": 118,
   "id": "70cc389d",
   "metadata": {},
   "outputs": [
    {
     "name": "stdout",
     "output_type": "stream",
     "text": [
      "paneer\n",
      "('mashroom', 'chicken', 'pizza')\n",
      "('paneer', 'mashroom', 'chicken', 'pizza')\n",
      "('paneer', 'mashroom', 'chicken')\n",
      "pizza\n"
     ]
    }
   ],
   "source": [
    "# Create a tuple\n",
    "food = ('paneer','mashroom','chicken','pizza','burger')\n",
    "\n",
    "# Slice a tuple\n",
    "\n",
    "print(food[0])\n",
    "print(food[1:4])\n",
    "print(food[:4])\n",
    "print(food[:3])\n",
    "print(food[-2])"
   ]
  },
  {
   "cell_type": "markdown",
   "id": "6079c65e",
   "metadata": {},
   "source": [
    "13. Write a Python program to find the index of an item of a tuple"
   ]
  },
  {
   "cell_type": "code",
   "execution_count": 121,
   "id": "3d7b90fc",
   "metadata": {},
   "outputs": [
    {
     "name": "stdout",
     "output_type": "stream",
     "text": [
      "2\n",
      "3\n"
     ]
    }
   ],
   "source": [
    "# Create a tuple\n",
    "colour = ('red','blue','green','yellow','hotpink','balck')\n",
    "\n",
    "# Find out the index of an item\n",
    "\n",
    "print(colour.index('green'))\n",
    "print(colour.index('yellow'))"
   ]
  },
  {
   "cell_type": "markdown",
   "id": "10bd047f",
   "metadata": {},
   "source": [
    "14. Write a Python program to find the length of a tuple"
   ]
  },
  {
   "cell_type": "code",
   "execution_count": 123,
   "id": "42d822c1",
   "metadata": {},
   "outputs": [
    {
     "name": "stdout",
     "output_type": "stream",
     "text": [
      "('red', 'blue', 'green', 'yellow', 'hotpink', 'balck')\n",
      "length is : 6\n"
     ]
    }
   ],
   "source": [
    "# find the length of a tuple\n",
    "\n",
    "len(colour)\n",
    "\n",
    "print(colour)\n",
    "print('length is :',len(colour))"
   ]
  },
  {
   "cell_type": "markdown",
   "id": "62425e45",
   "metadata": {},
   "source": [
    "15. Write a Python program to convert a tuple to a dictionary"
   ]
  },
  {
   "cell_type": "code",
   "execution_count": 135,
   "id": "1972d600",
   "metadata": {},
   "outputs": [
    {
     "name": "stdout",
     "output_type": "stream",
     "text": [
      "Original Tuple : (('colour', 'red'), ('food', 'pizza'), ('name', 'shree'), ('city', 'bangaluru'))\n",
      "This is dictionary : {'colour': 'red', 'food': 'pizza', 'name': 'shree', 'city': 'bangaluru'}\n"
     ]
    }
   ],
   "source": [
    "# Creat a tuple containing key and values with same length \n",
    "\n",
    "dic = (('colour','red'), ('food','pizza'), ('name','shree'),('city','bangaluru'))\n",
    "\n",
    "# Convert tuple to dictionary\n",
    "print('Original Tuple :',dic)\n",
    "print('This is dictionary :',dict(dic))"
   ]
  },
  {
   "cell_type": "markdown",
   "id": "db18ce4d",
   "metadata": {},
   "source": [
    "16. Write a Python program to unzip a list of tuples into individual lists."
   ]
  },
  {
   "cell_type": "code",
   "execution_count": 141,
   "id": "ea33fc05",
   "metadata": {},
   "outputs": [
    {
     "name": "stdout",
     "output_type": "stream",
     "text": [
      "originaal : (('colour', 'red'), ('food', 'pizza'), ('name', 'shree'), ('city', 'bangaluru'))\n",
      "Unzip list : [('colour', 'food', 'name', 'city'), ('red', 'pizza', 'shree', 'bangaluru')]\n"
     ]
    }
   ],
   "source": [
    "zip_list = (('colour','red'), ('food','pizza'), ('name','shree'),('city','bangaluru'))\n",
    "\n",
    "print('originaal :',zip_list)\n",
    "un_zip = list(zip(*zip_list))\n",
    "print('Unzip list :',un_zip)"
   ]
  },
  {
   "cell_type": "markdown",
   "id": "90faac1c",
   "metadata": {},
   "source": [
    "17. Write a Python program to reverse a tuple."
   ]
  },
  {
   "cell_type": "code",
   "execution_count": 167,
   "id": "379b5ec5",
   "metadata": {},
   "outputs": [
    {
     "data": {
      "text/plain": [
       "'janod liahsirhs si eman yM'"
      ]
     },
     "execution_count": 167,
     "metadata": {},
     "output_type": "execute_result"
    }
   ],
   "source": [
    "a = ('My name is shrishail donaj')\n",
    "\n",
    "a[::-1]"
   ]
  },
  {
   "cell_type": "markdown",
   "id": "7c63b6b1",
   "metadata": {},
   "source": [
    "18. Write a Python program to convert a list of tuples into a dictionary"
   ]
  },
  {
   "cell_type": "code",
   "execution_count": 168,
   "id": "0f806e92",
   "metadata": {},
   "outputs": [
    {
     "name": "stdout",
     "output_type": "stream",
     "text": [
      "this is list of tuples : (('colour', 'red'), ('food', 'pizza'), ('name', 'shree'), ('city', 'bangaluru'))\n",
      "this is converted dictionary : {'colour': 'red', 'food': 'pizza', 'name': 'shree', 'city': 'bangaluru'}\n"
     ]
    }
   ],
   "source": [
    "dic = (('colour','red'), ('food','pizza'), ('name','shree'),('city','bangaluru'))\n",
    "\n",
    "\n",
    "print('this is list of tuples :',dic)\n",
    "print('this is converted dictionary :',dict(dic))"
   ]
  },
  {
   "cell_type": "markdown",
   "id": "1d843755",
   "metadata": {},
   "source": [
    "19. Write a Python program to print a tuple with string formatting. Go to the editor\n",
    "* Sample tuple : (100, 200, 300)\n",
    "* Output : This is a tuple (100, 200, 300)"
   ]
  },
  {
   "cell_type": "code",
   "execution_count": 179,
   "id": "cb895be9",
   "metadata": {},
   "outputs": [
    {
     "name": "stdout",
     "output_type": "stream",
     "text": [
      "This is a tuple (100, 200, 300)\n"
     ]
    }
   ],
   "source": [
    "# Create a tuple sample \n",
    "sample_tuple = (100, 200, 300)\n",
    "\n",
    "#String formatting\n",
    "\n",
    "print('This is a tuple {}'.format(sample_tuple))"
   ]
  },
  {
   "cell_type": "markdown",
   "id": "f9182cd9",
   "metadata": {},
   "source": [
    "20. Write a Python program to replace last value of tuples in a list. \n",
    "* Sample list: [(10, 20, 40), (40, 50, 60), (70, 80, 90)]\n",
    "* Expected Output: [(10, 20, 100), (40, 50, 100), (70, 80, 100)]"
   ]
  },
  {
   "cell_type": "code",
   "execution_count": 224,
   "id": "36f3737a",
   "metadata": {},
   "outputs": [
    {
     "data": {
      "text/plain": [
       "[(10, 20, 40), (40, 50, 60), (70, 80, 90)]"
      ]
     },
     "execution_count": 224,
     "metadata": {},
     "output_type": "execute_result"
    }
   ],
   "source": [
    "# replace the last value in the list\n",
    "sample_list = [(10, 20, 40), (40, 50, 60), (70, 80, 90)]\n",
    "sample_list\n",
    "    "
   ]
  },
  {
   "cell_type": "code",
   "execution_count": null,
   "id": "8892fde4",
   "metadata": {},
   "outputs": [],
   "source": []
  },
  {
   "cell_type": "code",
   "execution_count": 220,
   "id": "f2945e9b",
   "metadata": {},
   "outputs": [
    {
     "data": {
      "text/plain": [
       "[(10, 20, 40), (40, 50, 60), (100,)]"
      ]
     },
     "execution_count": 220,
     "metadata": {},
     "output_type": "execute_result"
    }
   ],
   "source": [
    "sample_list"
   ]
  },
  {
   "cell_type": "code",
   "execution_count": null,
   "id": "a2005866",
   "metadata": {},
   "outputs": [],
   "source": []
  },
  {
   "cell_type": "code",
   "execution_count": 209,
   "id": "f79a1c59",
   "metadata": {},
   "outputs": [
    {
     "name": "stdout",
     "output_type": "stream",
     "text": [
      "[(10, 20, 100), (40, 50, 100), (70, 80, 100)]\n"
     ]
    }
   ],
   "source": [
    "l = [(10, 20, 40), (40, 50, 60), (70, 80, 90)]\n",
    "print([t[:-1] + (100,) for t in l])"
   ]
  },
  {
   "cell_type": "code",
   "execution_count": 237,
   "id": "07df4493",
   "metadata": {},
   "outputs": [
    {
     "name": "stdout",
     "output_type": "stream",
     "text": [
      "(10, 20, 40)\n",
      "(40, 50, 60)\n",
      "(70, 80, 90)\n"
     ]
    }
   ],
   "source": [
    "for i in l:\n",
    "    print(i)"
   ]
  },
  {
   "cell_type": "code",
   "execution_count": 243,
   "id": "b2b07695",
   "metadata": {},
   "outputs": [
    {
     "data": {
      "text/plain": [
       "(70, 80, 100)"
      ]
     },
     "execution_count": 243,
     "metadata": {},
     "output_type": "execute_result"
    }
   ],
   "source": [
    "i[:-1] + (100,)"
   ]
  },
  {
   "cell_type": "markdown",
   "id": "76c5ab1f",
   "metadata": {},
   "source": [
    "21. Write a Python program to remove an empty tuple(s) from a list of tuples\n",
    "\n",
    "* Sample data: [(), (), ('',), ('a', 'b'), ('a', 'b', 'c'), ('d')]\n",
    "* Expected output: [('',), ('a', 'b'), ('a', 'b', 'c'), 'd']"
   ]
  },
  {
   "cell_type": "code",
   "execution_count": 244,
   "id": "401f1162",
   "metadata": {},
   "outputs": [],
   "source": [
    "## Remove an item by value\n",
    "Sample_data = [(), (), ('',), ('a', 'b'), ('a', 'b', 'c'), ('d')]"
   ]
  },
  {
   "cell_type": "code",
   "execution_count": 245,
   "id": "728a3f10",
   "metadata": {},
   "outputs": [
    {
     "data": {
      "text/plain": [
       "[(), (), ('',), ('a', 'b'), ('a', 'b', 'c'), 'd']"
      ]
     },
     "execution_count": 245,
     "metadata": {},
     "output_type": "execute_result"
    }
   ],
   "source": [
    "Sample_data"
   ]
  },
  {
   "cell_type": "code",
   "execution_count": 258,
   "id": "56cd5e64",
   "metadata": {},
   "outputs": [],
   "source": [
    "Sample_data.remove(())"
   ]
  },
  {
   "cell_type": "code",
   "execution_count": 260,
   "id": "2f3d615f",
   "metadata": {},
   "outputs": [],
   "source": [
    "Sample_data.remove(())"
   ]
  },
  {
   "cell_type": "code",
   "execution_count": 261,
   "id": "2a9aea81",
   "metadata": {},
   "outputs": [
    {
     "data": {
      "text/plain": [
       "[('',), ('a', 'b'), ('a', 'b', 'c'), 'd']"
      ]
     },
     "execution_count": 261,
     "metadata": {},
     "output_type": "execute_result"
    }
   ],
   "source": [
    "Sample_data"
   ]
  },
  {
   "cell_type": "markdown",
   "id": "9472625a",
   "metadata": {},
   "source": [
    "22. Write a Python program to sort a tuple by its float element. \n",
    "* Sample data: [('item1', '12.20'), ('item2', '15.10'), ('item3', '24.5')]\n",
    "* Expected Output: [('item3', '24.5'), ('item2', '15.10'), ('item1', '12.20')]"
   ]
  },
  {
   "cell_type": "code",
   "execution_count": 277,
   "id": "0986ea0c",
   "metadata": {},
   "outputs": [],
   "source": [
    "sort_data = [('item1', '12.20'), ('item2', '15.10'), ('item3', '24.5')]\n",
    "\n",
    "tuple_data = (tuple(sort_data))"
   ]
  },
  {
   "cell_type": "code",
   "execution_count": 280,
   "id": "7c91285a",
   "metadata": {},
   "outputs": [
    {
     "data": {
      "text/plain": [
       "[('item1', '12.20'), ('item2', '15.10'), ('item3', '24.5')]"
      ]
     },
     "execution_count": 280,
     "metadata": {},
     "output_type": "execute_result"
    }
   ],
   "source": [
    "sorted(tuple_data)"
   ]
  },
  {
   "cell_type": "code",
   "execution_count": 281,
   "id": "19e063d0",
   "metadata": {},
   "outputs": [],
   "source": [
    "sort_data = [('item1', '12.20'), ('item2', '15.10'), ('item3', '24.5')]"
   ]
  },
  {
   "cell_type": "code",
   "execution_count": 296,
   "id": "4c908ce8",
   "metadata": {},
   "outputs": [
    {
     "data": {
      "text/plain": [
       "[('item3', '24.5'), ('item2', '15.10'), ('item1', '12.20')]"
      ]
     },
     "execution_count": 296,
     "metadata": {},
     "output_type": "execute_result"
    }
   ],
   "source": [
    "sorted(sort_data,reverse=True)"
   ]
  },
  {
   "cell_type": "markdown",
   "id": "61326a73",
   "metadata": {},
   "source": [
    "23. Write a Python program to count the elements in a list until an element is a tuple"
   ]
  },
  {
   "cell_type": "code",
   "execution_count": 297,
   "id": "95acf5cd",
   "metadata": {},
   "outputs": [
    {
     "data": {
      "text/plain": [
       "5"
      ]
     },
     "execution_count": 297,
     "metadata": {},
     "output_type": "execute_result"
    }
   ],
   "source": [
    "count_tuple = [1,2,3,['shree','manju'],(10,20,30)]\n",
    "len(count_tuple)"
   ]
  },
  {
   "cell_type": "code",
   "execution_count": 314,
   "id": "9759ad20",
   "metadata": {},
   "outputs": [
    {
     "name": "stdout",
     "output_type": "stream",
     "text": [
      "4\n"
     ]
    }
   ],
   "source": [
    "count_tuple = [1,2,3,['shree','manju'],(10,20,30)]\n",
    "crt = 0\n",
    "for i in count_tuple:\n",
    "    if isinstance(i,tuple):\n",
    "        break\n",
    "    crt+=1\n",
    "print(crt)\n",
    "    "
   ]
  },
  {
   "cell_type": "markdown",
   "id": "b998bea4",
   "metadata": {},
   "source": [
    "24. Write a Python program convert a given string list to a tuple. \n",
    "* Original string: python 3.0\n",
    "<class 'str'>\n",
    "* Convert the said string to a tuple:\n",
    "('p', 'y', 't', 'h', 'o', 'n', '3', '.', '0')\n",
    "<class 'tuple'>"
   ]
  },
  {
   "cell_type": "code",
   "execution_count": 347,
   "id": "c627ac4c",
   "metadata": {},
   "outputs": [],
   "source": [
    "s = ['python 3.0']\n"
   ]
  },
  {
   "cell_type": "code",
   "execution_count": 356,
   "id": "0b3236e4",
   "metadata": {},
   "outputs": [
    {
     "name": "stdout",
     "output_type": "stream",
     "text": [
      "('p', 'y', 't', 'h', 'o', 'n', ' ', '3', '.', '0')\n"
     ]
    }
   ],
   "source": [
    "for i in s:\n",
    "    print(tuple(i))"
   ]
  },
  {
   "cell_type": "markdown",
   "id": "82cce098",
   "metadata": {},
   "source": [
    "25. Write a Python program calculate the product, multiplying all the numbers of a given tuple. \n",
    "* Original Tuple:\n",
    "(4, 3, 2, 2, -1, 18)\n",
    "* Product - multiplying all the numbers of the said tuple: -864\n",
    "* Original Tuple:\n",
    "(2, 4, 8, 8, 3, 2, 9)\n",
    "* Product - multiplying all the numbers of the said tuple: 27648"
   ]
  },
  {
   "cell_type": "code",
   "execution_count": null,
   "id": "de61e82c",
   "metadata": {},
   "outputs": [],
   "source": []
  },
  {
   "cell_type": "code",
   "execution_count": 369,
   "id": "cfd8a04d",
   "metadata": {},
   "outputs": [
    {
     "name": "stdout",
     "output_type": "stream",
     "text": [
      "Original Tuple: \n",
      "(2, 4, 8, 8, 3, 2, 9)\n",
      "Product - multiplying all the numbers of the said tuple: 27648\n",
      "\n",
      "Original Tuple: \n",
      "(2, 4, 8, 8, 3, 2, 9)\n",
      "Product - multiplying all the numbers of the said tuple: 27648\n"
     ]
    }
   ],
   "source": [
    "def mutiple_tuple(nums):\n",
    "    temp = list(nums)\n",
    "    product = 1 \n",
    "    for x in temp:\n",
    "        product *= x\n",
    "    return product\n",
    "\n",
    "num = (4, 3, 2, 2, -1, 18)\n",
    "print (\"Original Tuple: \")\n",
    "print(nums)\n",
    "print(\"Product - multiplying all the numbers of the said tuple:\",mutiple_tuple(nums))\n",
    "\n",
    "nums = (2, 4, 8, 8, 3, 2, 9)\n",
    "print (\"\\nOriginal Tuple: \")\n",
    "print(nums)\n",
    "print(\"Product - multiplying all the numbers of the said tuple:\",mutiple_tuple(nums))"
   ]
  },
  {
   "cell_type": "code",
   "execution_count": null,
   "id": "3b91d28c",
   "metadata": {},
   "outputs": [],
   "source": []
  },
  {
   "cell_type": "code",
   "execution_count": null,
   "id": "a00ec64f",
   "metadata": {},
   "outputs": [],
   "source": []
  },
  {
   "cell_type": "code",
   "execution_count": null,
   "id": "17587c4b",
   "metadata": {},
   "outputs": [],
   "source": []
  },
  {
   "cell_type": "code",
   "execution_count": null,
   "id": "240147c4",
   "metadata": {},
   "outputs": [],
   "source": []
  }
 ],
 "metadata": {
  "kernelspec": {
   "display_name": "Python 3 (ipykernel)",
   "language": "python",
   "name": "python3"
  },
  "language_info": {
   "codemirror_mode": {
    "name": "ipython",
    "version": 3
   },
   "file_extension": ".py",
   "mimetype": "text/x-python",
   "name": "python",
   "nbconvert_exporter": "python",
   "pygments_lexer": "ipython3",
   "version": "3.9.12"
  }
 },
 "nbformat": 4,
 "nbformat_minor": 5
}
