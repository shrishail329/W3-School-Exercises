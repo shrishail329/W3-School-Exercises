{
 "cells": [
  {
   "cell_type": "markdown",
   "id": "88ee6564-5074-446f-b725-fd0e610784e7",
   "metadata": {},
   "source": [
    "1. Write a Python program to display the current date and time"
   ]
  },
  {
   "cell_type": "code",
   "execution_count": 1,
   "id": "64ca4e2f-724c-4fe0-b4f7-8283026cfe6f",
   "metadata": {},
   "outputs": [],
   "source": [
    "import datetime as datetime"
   ]
  },
  {
   "cell_type": "code",
   "execution_count": 2,
   "id": "5aea55ee-8dbf-496a-a3c1-4fb215cf3183",
   "metadata": {},
   "outputs": [],
   "source": [
    "time = datetime.datetime.now()"
   ]
  },
  {
   "cell_type": "code",
   "execution_count": 3,
   "id": "61a3447b-e72c-43a5-848d-13da3a87faa1",
   "metadata": {},
   "outputs": [
    {
     "data": {
      "text/plain": [
       "datetime.datetime(2022, 12, 16, 16, 38, 44, 888342)"
      ]
     },
     "execution_count": 3,
     "metadata": {},
     "output_type": "execute_result"
    }
   ],
   "source": [
    "time"
   ]
  },
  {
   "cell_type": "markdown",
   "id": "17e666c8-701c-47f7-9636-9878c535fed2",
   "metadata": {},
   "source": [
    "2.Write a Python program which accepts the user's first and last name and print them in reverse order with a space between them."
   ]
  },
  {
   "cell_type": "code",
   "execution_count": 7,
   "id": "29f82a9d-07ce-4e65-b04b-9d645ad95610",
   "metadata": {},
   "outputs": [
    {
     "name": "stdin",
     "output_type": "stream",
     "text": [
      "type your first name: shrishail\n",
      "type your last name: donaj\n"
     ]
    },
    {
     "name": "stdout",
     "output_type": "stream",
     "text": [
      "donaj  shrishail\n"
     ]
    }
   ],
   "source": [
    "first_name = input('type your first name:')\n",
    "last_name = input('type your last name:')\n",
    "\n",
    "print(last_name,'', first_name)"
   ]
  },
  {
   "cell_type": "markdown",
   "id": "1639791a-71be-433b-88e6-e711159ad52a",
   "metadata": {},
   "source": [
    "3. Write a Python program which accepts a sequence of comma-separated numbers from user and generate a list and a tuple with those numbers.\n",
    "\n",
    "Sample data : 3, 5, 7, 23"
   ]
  },
  {
   "cell_type": "code",
   "execution_count": 50,
   "id": "02589d99-2234-433c-a034-d3b5c1eefc2a",
   "metadata": {},
   "outputs": [
    {
     "name": "stdin",
     "output_type": "stream",
     "text": [
      "enter the number:  2,3,4\n"
     ]
    },
    {
     "name": "stdout",
     "output_type": "stream",
     "text": [
      "[2, 3, 4]\n",
      "(2, 3, 4)\n"
     ]
    }
   ],
   "source": [
    "a = eval(input(\"enter the number: \"))\n",
    "print([i for i in a])\n",
    "print(a)"
   ]
  },
  {
   "cell_type": "markdown",
   "id": "03e7f2ec-7200-439f-b493-b77cce4bf1b9",
   "metadata": {},
   "source": [
    "4. Write a Python program to accept a filename from the user and print the extension of that. Go to the editor\n",
    "\n",
    "Sample filename : abc.java\n",
    "\n",
    "Output : java"
   ]
  },
  {
   "cell_type": "code",
   "execution_count": 83,
   "id": "65c2feca-334f-420e-9868-e93f9a6bb429",
   "metadata": {},
   "outputs": [
    {
     "name": "stdin",
     "output_type": "stream",
     "text": [
      "enter file name:  abc.java\n"
     ]
    },
    {
     "data": {
      "text/plain": [
       "'java'"
      ]
     },
     "execution_count": 83,
     "metadata": {},
     "output_type": "execute_result"
    }
   ],
   "source": [
    "filename = input('enter file name: ')\n",
    "filename.split(\".\") [1]"
   ]
  },
  {
   "cell_type": "markdown",
   "id": "acedf7a2-d4af-447d-aaf6-b9bc50fa39f7",
   "metadata": {},
   "source": [
    "5. Write a Python program to display the first and last colors from the following list.\n",
    "\n",
    "color_list = [\"Red\",\"Green\",\"White\" ,\"Black\"]"
   ]
  },
  {
   "cell_type": "code",
   "execution_count": 81,
   "id": "b2b06739-a621-4993-ad1e-6adb842dc04a",
   "metadata": {},
   "outputs": [],
   "source": [
    "color_list = [\"Red\",\"Green\",\"White\" ,\"Black\",'dbebd','dnsjd']\n"
   ]
  },
  {
   "cell_type": "code",
   "execution_count": 67,
   "id": "b3fbc1cd-a450-4938-99ab-ad9d5f39ddd4",
   "metadata": {},
   "outputs": [],
   "source": [
    "a = 'output.java'"
   ]
  },
  {
   "cell_type": "code",
   "execution_count": 82,
   "id": "e251bf48-41a3-48cd-8ad8-87fe3063768b",
   "metadata": {
    "tags": []
   },
   "outputs": [
    {
     "name": "stdout",
     "output_type": "stream",
     "text": [
      "['Red']\n",
      "dnsjd\n"
     ]
    }
   ],
   "source": [
    "print(color_list[:1])\n",
    "print(color_list[-1])\n"
   ]
  },
  {
   "cell_type": "markdown",
   "id": "02433707-ab99-4fcd-ae7a-e244dd5e5152",
   "metadata": {},
   "source": [
    "6. Write a Python program to calculate number of days between two dates.\n",
    "\n",
    "Sample dates : (2014, 7, 2), (2014, 7, 11)\n",
    "\n",
    "Expected output : 9 days"
   ]
  },
  {
   "cell_type": "code",
   "execution_count": 98,
   "id": "6fb92254-d5d0-4232-9ec1-c2105dd4d5f9",
   "metadata": {},
   "outputs": [],
   "source": [
    "import datetime as datetime"
   ]
  },
  {
   "cell_type": "code",
   "execution_count": 106,
   "id": "b5136d13-e73a-4b0c-b89b-cd91e545e8ef",
   "metadata": {},
   "outputs": [
    {
     "name": "stdout",
     "output_type": "stream",
     "text": [
      "9 days, 0:00:00\n"
     ]
    }
   ],
   "source": [
    "sample_date = datetime.datetime(2014,7,2)\n",
    "sample_date1 = datetime.datetime(2014,7,11)\n",
    "\n",
    "print(sample_date1-sample_date)"
   ]
  },
  {
   "cell_type": "markdown",
   "id": "666490c7-3896-4489-82d9-fe3b73163934",
   "metadata": {},
   "source": [
    "7. Write a Python program to get the difference between a given number and 17, if the number is greater than 17 return double the absolute difference"
   ]
  },
  {
   "cell_type": "code",
   "execution_count": 108,
   "id": "2ff4b590-13df-47c3-a99f-084cef98fd9a",
   "metadata": {},
   "outputs": [
    {
     "name": "stdout",
     "output_type": "stream",
     "text": [
      "-7\n",
      "None\n",
      "6\n",
      "None\n"
     ]
    }
   ],
   "source": [
    "def number(n):\n",
    "    absolute_diff = n-17\n",
    "    if n>17:\n",
    "        print(absolute_diff*2)\n",
    "    else:\n",
    "        print(absolute_diff)\n",
    "print(number(10))\n",
    "print(number(20))\n"
   ]
  },
  {
   "cell_type": "markdown",
   "id": "de4831b8-f06a-460f-814b-69e3f08387ee",
   "metadata": {},
   "source": [
    " 8. Write a Python program to test whether a number is within 100 of 1000 or 2000."
   ]
  },
  {
   "cell_type": "code",
   "execution_count": 110,
   "id": "489525f2-6191-43e4-899a-be96bfdddbbb",
   "metadata": {},
   "outputs": [
    {
     "data": {
      "text/plain": [
       "False"
      ]
     },
     "execution_count": 110,
     "metadata": {},
     "output_type": "execute_result"
    }
   ],
   "source": [
    "def near_thousand(n):\n",
    "    "
   ]
  },
  {
   "cell_type": "code",
   "execution_count": 122,
   "id": "140ed840-5ac7-4f0c-abf0-dc4d78a6ed76",
   "metadata": {},
   "outputs": [
    {
     "data": {
      "text/plain": [
       "False"
      ]
     },
     "execution_count": 122,
     "metadata": {},
     "output_type": "execute_result"
    }
   ],
   "source": [
    "def test_thousand(n):\n",
    "    return ((abs(2000-a)<=100) or (abs(1000-a)<=100))\n",
    "test_thousand(100)"
   ]
  },
  {
   "cell_type": "markdown",
   "id": "57c088e9-59b2-4557-9c96-7753c62fb817",
   "metadata": {},
   "source": [
    "9. Write a Python program to calculate the sum of three given numbers, if the values are equal then return three times of their sum."
   ]
  },
  {
   "cell_type": "code",
   "execution_count": 130,
   "id": "33dddc86-5626-4f6c-ad7a-a975fbd537ef",
   "metadata": {},
   "outputs": [
    {
     "data": {
      "text/plain": [
       "False"
      ]
     },
     "execution_count": 130,
     "metadata": {},
     "output_type": "execute_result"
    }
   ],
   "source": [
    "def three_number(x,y,z):"
   ]
  },
  {
   "cell_type": "code",
   "execution_count": 146,
   "id": "d8092c98-9e54-4772-abf6-ebf848f234d9",
   "metadata": {},
   "outputs": [],
   "source": [
    "x,y,z = 3,3,3"
   ]
  },
  {
   "cell_type": "code",
   "execution_count": 173,
   "id": "dd280e19-1d5c-49b7-9817-2730e792676a",
   "metadata": {},
   "outputs": [
    {
     "name": "stdout",
     "output_type": "stream",
     "text": [
      "21\n",
      "6\n"
     ]
    }
   ],
   "source": [
    "def number(a,b,c):\n",
    "    sum1 = a+b+c\n",
    "    if a == b == c:\n",
    "        sum2 = sum1*3\n",
    "    return sum1\n",
    "    \n",
    "print(number(7,7,7))\n",
    "print(number(1,2,3))"
   ]
  },
  {
   "cell_type": "markdown",
   "id": "f92942da-37ff-4a87-a5a2-0f2658197958",
   "metadata": {},
   "source": [
    "10. Write a Python program to get a new string from a given string where \"Is\" has been added to the front. If the given string already begins with \"Is\" then return the string unchanged"
   ]
  },
  {
   "cell_type": "code",
   "execution_count": 198,
   "id": "1bbf9e0b-65b3-4b22-b49a-7ae4de8cfe36",
   "metadata": {},
   "outputs": [
    {
     "data": {
      "text/plain": [
       "'Is this my number'"
      ]
     },
     "execution_count": 198,
     "metadata": {},
     "output_type": "execute_result"
    }
   ],
   "source": [
    "def new_string(str):\n",
    "    if str[:2] == 'Is':\n",
    "        return str\n",
    "    return 'Is' + str\n",
    "new_string('Is this shrishail')\n",
    "new_string(' this my number')"
   ]
  },
  {
   "cell_type": "markdown",
   "id": "1f2e5f74-fed7-42f5-a5a0-fe44ef17b20a",
   "metadata": {},
   "source": [
    "11. Write a Python program to get a string which is n (non-negative integer) copies of a given string"
   ]
  },
  {
   "cell_type": "code",
   "execution_count": 217,
   "id": "b2507e5f-2c53-42f4-a015-7936bb996c69",
   "metadata": {},
   "outputs": [
    {
     "name": "stdout",
     "output_type": "stream",
     "text": [
      "abcabc\n",
      "xyzxyzxyzxyz\n"
     ]
    }
   ],
   "source": [
    "def non_neg_int(str,n):\n",
    "    result = ''\n",
    "    for i in range(n):\n",
    "        result = result + str\n",
    "    return result\n",
    "print(non_neg_int('abc',2))\n",
    "print(non_neg_int('xyz',4))  "
   ]
  },
  {
   "cell_type": "markdown",
   "id": "4b257246-1ff3-4ac6-9865-b8e15577802e",
   "metadata": {},
   "source": [
    "12. Write a Python program to find whether a given number (accept from the user) is even or odd, print out an appropriate message to the user"
   ]
  },
  {
   "cell_type": "code",
   "execution_count": 222,
   "id": "7031fc1b-4fa8-4ade-89f8-c84c9ce9b5fc",
   "metadata": {},
   "outputs": [
    {
     "name": "stdout",
     "output_type": "stream",
     "text": [
      "the given number is odd:  1\n",
      "the given number is even:  2\n",
      "the given number is odd:  3\n",
      "the given number is even:  4\n",
      "the given number is odd:  5\n",
      "the given number is even:  6\n",
      "the given number is odd:  7\n",
      "the given number is even:  8\n",
      "the given number is odd:  9\n"
     ]
    }
   ],
   "source": [
    "for i in range(1,10):\n",
    "    if (i%2)==0:\n",
    "        print('the given number is even: ',i)\n",
    "    else:\n",
    "        print('the given number is odd: ',i)"
   ]
  },
  {
   "cell_type": "code",
   "execution_count": 225,
   "id": "4631b979-98b7-46e1-8737-ab48b0363997",
   "metadata": {},
   "outputs": [
    {
     "name": "stdout",
     "output_type": "stream",
     "text": [
      "prime number 1\n",
      "prime number 3\n",
      "prime number 5\n",
      "prime number 7\n",
      "prime number 9\n"
     ]
    }
   ],
   "source": [
    "for i in range(1,10):\n",
    "    if (i%2)!=0:\n",
    "        print('prime number',i)"
   ]
  },
  {
   "cell_type": "code",
   "execution_count": 226,
   "id": "09026732-7f52-4ac9-8470-9d6e4fd83ca0",
   "metadata": {},
   "outputs": [
    {
     "data": {
      "text/plain": [
       "[1, 3, 5, 7, 9]"
      ]
     },
     "execution_count": 226,
     "metadata": {},
     "output_type": "execute_result"
    }
   ],
   "source": [
    "[i for i in range(1,10) if (i%2)!=0]"
   ]
  },
  {
   "cell_type": "markdown",
   "id": "23d923dc-9538-4f4a-93df-d5861b99ab8e",
   "metadata": {},
   "source": [
    "13. Write a Python program to count the number 4 in a given list."
   ]
  },
  {
   "cell_type": "code",
   "execution_count": 1,
   "id": "1aba9902-0899-460c-8170-385b307722ca",
   "metadata": {},
   "outputs": [
    {
     "data": {
      "text/plain": [
       "[1, 2, 5, 4, 5, 4, 5, 6, 7, 4, 5, 6, 4, 6, 4, 5]"
      ]
     },
     "execution_count": 1,
     "metadata": {},
     "output_type": "execute_result"
    }
   ],
   "source": [
    "lists = [1,2,5,4,5,4,5,6,7,4,5,6,4,6,4,5]\n",
    "lists"
   ]
  },
  {
   "cell_type": "code",
   "execution_count": 6,
   "id": "08b09ab6-eb82-4cd0-be1d-02eb0c14febf",
   "metadata": {},
   "outputs": [
    {
     "data": {
      "text/plain": [
       "5"
      ]
     },
     "execution_count": 6,
     "metadata": {},
     "output_type": "execute_result"
    }
   ],
   "source": [
    "lists.count(4)"
   ]
  },
  {
   "cell_type": "markdown",
   "id": "23306b20-7aa7-4adf-9fd3-f09d51ec77a6",
   "metadata": {},
   "source": [
    "14. Write a Python program to get the n (non-negative integer) copies of the first 2 characters of a given string. Return the n copies of the whole string if the length is less than 2."
   ]
  },
  {
   "cell_type": "code",
   "execution_count": 44,
   "id": "41e7761e-c3f1-495d-a3a5-d3494f3d9e38",
   "metadata": {},
   "outputs": [
    {
     "name": "stdout",
     "output_type": "stream",
     "text": [
      "shsh\n",
      "shshshsh\n"
     ]
    }
   ],
   "source": [
    "def num(str,n):\n",
    "    file = 2\n",
    "    if file > len(str):\n",
    "        file = len(str)\n",
    "        subst = str[:file]\n",
    "    res = ''\n",
    "    for i in range(n):\n",
    "        res = res + substr\n",
    "    return res\n",
    "print(num('shrishail',2))\n",
    "print(num('sh',4))"
   ]
  },
  {
   "cell_type": "markdown",
   "id": "fd158d66-bd1f-457a-b137-9dc548766a91",
   "metadata": {},
   "source": [
    "15. Write a Python program to test whether a passed letter is a vowel or not"
   ]
  },
  {
   "cell_type": "code",
   "execution_count": 47,
   "id": "d85ffa9e-adde-4bcc-be85-f9351b6100a3",
   "metadata": {},
   "outputs": [],
   "source": [
    "li = ['A','E','I','O','U']"
   ]
  },
  {
   "cell_type": "code",
   "execution_count": 54,
   "id": "21cea05f-6896-4a1b-a608-d7d8017f028b",
   "metadata": {},
   "outputs": [
    {
     "name": "stdin",
     "output_type": "stream",
     "text": [
      "enter the any alphabet z\n"
     ]
    },
    {
     "name": "stdout",
     "output_type": "stream",
     "text": [
      "not vowel\n"
     ]
    }
   ],
   "source": [
    "li = input('enter the any alphabet')\n",
    "for i in li:\n",
    "    if i == 'A' or i == 'E' or i == 'I' or i == 'O' or i == 'U' or i == 'a' or i == 'e' or i == 'i' or i == 'o' or i == 'u':\n",
    "        print(i, ' is vowel')\n",
    "    else:\n",
    "        print('not vowel')"
   ]
  },
  {
   "cell_type": "markdown",
   "id": "5e352944-76b6-4bc5-89fd-6dd87dd04d73",
   "metadata": {},
   "source": [
    "16. Write a Python program to check whether a specified value is contained in a group of values"
   ]
  },
  {
   "cell_type": "code",
   "execution_count": 58,
   "id": "e8980034-fb75-4151-9493-04ceaa41f95f",
   "metadata": {},
   "outputs": [
    {
     "name": "stdout",
     "output_type": "stream",
     "text": [
      "True\n",
      "False\n"
     ]
    }
   ],
   "source": [
    "def is_number_there(group,n):\n",
    "    for values in group:\n",
    "        if n == values:\n",
    "            return True\n",
    "    return False\n",
    "print(is_number_there([1,2,3,4,5],1))\n",
    "print(is_number_there([1,2,3,4,5],6))"
   ]
  },
  {
   "cell_type": "markdown",
   "id": "f9f92846-6c6c-4e27-8dce-712b95678df3",
   "metadata": {},
   "source": [
    "17. Write a Python program to print all even numbers from a given numbers list in the same order and stop the printing if any numbers that come after 237 in the sequence\n",
    "\n",
    "numbers = [386, 462, 47, 418, 907, 344, 236, 375, 823, 566, 597, 978, 328, 615, 953, 345, \n",
    "    399, 162, 758, 219, 918, 237, 412, 566, 826, 248, 866, 950, 626, 949, 687, 217, \n",
    "    815, 67, 104, 58, 512, 24, 892, 894, 767, 553, 81, 379, 843, 831, 445, 742, 717, \n",
    "    958,743, 527]"
   ]
  },
  {
   "cell_type": "code",
   "execution_count": 91,
   "id": "a97809a2-9231-41aa-8c48-eb53e936008f",
   "metadata": {},
   "outputs": [],
   "source": [
    "numbers = [    \n",
    "    386, 462, 47, 418, 907, 344, 236, 375, 823, 566, 597, 978, 328, 615, 953, 345, \n",
    "    399, 162, 758, 219, 918, 237, 412, 566, 826, 248, 866, 950, 626, 949, 687, 217, \n",
    "    815, 67, 104, 58, 512, 24, 892, 894, 767, 553, 81, 379, 843, 831, 445, 742, 717, \n",
    "    958,743, 527\n",
    "    ]"
   ]
  },
  {
   "cell_type": "code",
   "execution_count": 92,
   "id": "75905aef-d314-4bc0-bab9-1a1d8221cd22",
   "metadata": {},
   "outputs": [
    {
     "name": "stdout",
     "output_type": "stream",
     "text": [
      "386\n",
      "462\n",
      "418\n",
      "344\n",
      "236\n",
      "566\n",
      "978\n",
      "328\n",
      "162\n",
      "758\n",
      "918\n",
      "237\n"
     ]
    }
   ],
   "source": [
    "for i in numbers:\n",
    "    if i == 237:\n",
    "        print(i)\n",
    "        break;\n",
    "    elif i%2 ==0:\n",
    "        print(i)\n",
    "        "
   ]
  },
  {
   "cell_type": "markdown",
   "id": "025ae969-4042-442b-bdab-1443e2d80c77",
   "metadata": {},
   "source": [
    "18. Write a Python program to print out a set containing all the colors from color_list_1 which are not present in color_list_2.\n",
    "\n",
    "\n",
    "Test Data :\n",
    "\n",
    "color_list_1 = set([\"White\", \"Black\", \"Red\"])\n",
    "\n",
    "color_list_2 = set([\"Red\", \"Green\"])"
   ]
  },
  {
   "cell_type": "code",
   "execution_count": 98,
   "id": "4aee804f-cb2c-486f-8828-d074aea6af8c",
   "metadata": {},
   "outputs": [],
   "source": [
    "color_list_1 = set([\"White\", \"Black\", \"Red\"])\n",
    "\n",
    "color_list_2 = set([\"Red\", \"Green\"])"
   ]
  },
  {
   "cell_type": "code",
   "execution_count": 134,
   "id": "2a9c99e8-cda6-498a-9d75-f3ec8c9085f5",
   "metadata": {},
   "outputs": [
    {
     "name": "stdout",
     "output_type": "stream",
     "text": [
      "Black\n",
      "White\n"
     ]
    }
   ],
   "source": [
    "for i in color_list_1:\n",
    "    if i not in color_list_2:\n",
    "        print(i)"
   ]
  },
  {
   "cell_type": "code",
   "execution_count": 135,
   "id": "f488b088-085e-4744-bbe8-13a64bfc0082",
   "metadata": {},
   "outputs": [
    {
     "data": {
      "text/plain": [
       "{'Black', 'White'}"
      ]
     },
     "execution_count": 135,
     "metadata": {},
     "output_type": "execute_result"
    }
   ],
   "source": [
    "color_list_1.difference(color_list_2)"
   ]
  },
  {
   "cell_type": "code",
   "execution_count": 136,
   "id": "3ad0ce04-db84-4d5d-b631-24d1d032068a",
   "metadata": {},
   "outputs": [
    {
     "data": {
      "text/plain": [
       "{'Green'}"
      ]
     },
     "execution_count": 136,
     "metadata": {},
     "output_type": "execute_result"
    }
   ],
   "source": [
    "color_list_2.difference(color_list_1)"
   ]
  },
  {
   "cell_type": "markdown",
   "id": "47fe7217-1751-44a0-aa19-b2e5c6e199c6",
   "metadata": {},
   "source": [
    "19. Write a Python program to sum of three given integers. However, if two values are equal sum will be zeroWrite a Python program to sum of three given integers. However, if two values are equal sum will be zero"
   ]
  },
  {
   "cell_type": "code",
   "execution_count": 151,
   "id": "5eb18674-b519-4870-b63c-d745f1cd0dc1",
   "metadata": {},
   "outputs": [
    {
     "name": "stdout",
     "output_type": "stream",
     "text": [
      "6\n",
      "0\n",
      "0\n"
     ]
    }
   ],
   "source": [
    "def sum_given_num(a,b,c):\n",
    "    if a ==b or b==c or c==a:\n",
    "        sum = 0\n",
    "    else:\n",
    "        sum = a+b+c\n",
    "    return sum\n",
    "print(sum_given_num(1,2,3))\n",
    "print(sum_given_num(1,2,1))\n",
    "print(sum_given_num(1,2,2))\n",
    "    \n",
    "    "
   ]
  },
  {
   "cell_type": "code",
   "execution_count": 147,
   "id": "a055d5e0-19b0-4af5-bdbc-b7498841f511",
   "metadata": {},
   "outputs": [],
   "source": [
    "x,y,z = 1,2,1\n",
    "sum = x+y+z\n",
    "if x==y or y==z or x==z:\n",
    "    sum = 0\n",
    "else:\n",
    "    print(sum)"
   ]
  },
  {
   "cell_type": "markdown",
   "id": "7ee1202b-52f3-4666-9ef0-25d25f55ca72",
   "metadata": {},
   "source": [
    "20. Write a Python program to sum of two given integers. However, if the sum is between 15 to 20 it will return"
   ]
  },
  {
   "cell_type": "code",
   "execution_count": 1,
   "id": "b4a3b037-d1e9-4c87-8f6e-a461cc36533a",
   "metadata": {},
   "outputs": [
    {
     "name": "stdout",
     "output_type": "stream",
     "text": [
      "15\n",
      "16\n",
      "17\n",
      "18\n",
      "19\n"
     ]
    }
   ],
   "source": [
    "## if sum of two number is between 15 and 20 then print it else print their sum \n",
    "sum1 = x+y \n"
   ]
  },
  {
   "cell_type": "code",
   "execution_count": 14,
   "id": "bed0ea7c-a7c8-4fbd-9142-b60d3b3c3738",
   "metadata": {},
   "outputs": [
    {
     "name": "stdout",
     "output_type": "stream",
     "text": [
      "20\n",
      "12\n",
      "22\n"
     ]
    }
   ],
   "source": [
    "def sum(x, y):\n",
    "    sum = x + y\n",
    "    if sum in range(15, 20):\n",
    "        return 20\n",
    "    else:\n",
    "        return sum\n",
    "\n",
    "print(sum(10, 7))\n",
    "print(sum(10, 2))\n",
    "print(sum(10, 12))"
   ]
  },
  {
   "cell_type": "markdown",
   "id": "1be6eea7-34e7-4beb-8046-77dbc27a2e6b",
   "metadata": {},
   "source": [
    "21. Write a Python program that will return true if the two given integer values are equal or their sum or difference is 5"
   ]
  },
  {
   "cell_type": "code",
   "execution_count": 36,
   "id": "a33f6624-5036-4fe3-a273-6e1e52cc9439",
   "metadata": {},
   "outputs": [
    {
     "name": "stdout",
     "output_type": "stream",
     "text": [
      "True\n",
      "None\n",
      "True\n",
      "None\n",
      "wrong\n",
      "None\n",
      "wrong\n",
      "None\n"
     ]
    }
   ],
   "source": [
    "def fun(x,y):\n",
    "    sum = x+y\n",
    "    diff = x-y\n",
    "    if x==y:\n",
    "        print(True)\n",
    "    elif sum == 5:\n",
    "        print(True)\n",
    "    elif diff ==5:\n",
    "        print(True)\n",
    "    else:\n",
    "        print('wrong')\n",
    "    return()\n",
    "    \n",
    "    \n",
    "print(fun(5,5))\n",
    "print(fun(2,3))\n",
    "print(fun(7,3))\n",
    "print(fun(10,23))"
   ]
  },
  {
   "cell_type": "code",
   "execution_count": 39,
   "id": "3da77796-1dde-4c63-9ae7-6bd05ab6fd8f",
   "metadata": {},
   "outputs": [],
   "source": [
    "import numpy as np"
   ]
  },
  {
   "cell_type": "code",
   "execution_count": 62,
   "id": "07526c87-38b3-4032-befd-3e015614416b",
   "metadata": {},
   "outputs": [],
   "source": [
    "def fun1(x,y):\n",
    "    if x+y == 5 or x-y == 5 or x==y:\n",
    "        print(\"True\")\n",
    "    else:\n",
    "        print(\"Fa\")\n",
    "       "
   ]
  },
  {
   "cell_type": "code",
   "execution_count": 64,
   "id": "832c6339-84f8-4681-a8b9-c9ccf89db1cd",
   "metadata": {},
   "outputs": [
    {
     "name": "stdout",
     "output_type": "stream",
     "text": [
      "True\n"
     ]
    }
   ],
   "source": [
    "fun1(1,4)"
   ]
  },
  {
   "cell_type": "markdown",
   "id": "81edbb45-3cc6-405f-b271-4a0392e7e433",
   "metadata": {},
   "source": [
    " 22. Write a Python program to add two objects if both objects are an integer type."
   ]
  },
  {
   "cell_type": "code",
   "execution_count": 3,
   "id": "6f99b945-4cfe-4ea3-9bf2-87d690526ba0",
   "metadata": {},
   "outputs": [
    {
     "name": "stdout",
     "output_type": "stream",
     "text": [
      "7\n",
      "value must be integer\n"
     ]
    }
   ],
   "source": [
    "def two_obj(x,y):\n",
    "    if not (isinstance(x,int) and isinstance(y,int)):\n",
    "        return'value must be integer'\n",
    "    return x+y\n",
    "print(two_obj(5,2))\n",
    "print(two_obj('shree','manju'))"
   ]
  },
  {
   "cell_type": "code",
   "execution_count": 17,
   "id": "8f4c419b-5870-422f-8165-a7a7884b4f80",
   "metadata": {},
   "outputs": [
    {
     "name": "stdin",
     "output_type": "stream",
     "text": [
      "enter any value or any int number:  \"shree\"\n",
      "enter any values or any int number:  2\n"
     ]
    },
    {
     "name": "stdout",
     "output_type": "stream",
     "text": [
      "value must be int\n"
     ]
    }
   ],
   "source": [
    "x = eval(input('enter any value or any int number: '))\n",
    "y = eval(input('enter any values or any int number: '))\n",
    "if not (type(x)==int and type(y)==int):\n",
    "    print('value must be int')\n",
    "else:\n",
    "    print(x+y)\n",
    "    \n"
   ]
  },
  {
   "cell_type": "code",
   "execution_count": 7,
   "id": "0a60c19b-88a5-4357-8939-b9b02b5a771a",
   "metadata": {},
   "outputs": [],
   "source": [
    "x = 10"
   ]
  },
  {
   "cell_type": "code",
   "execution_count": 9,
   "id": "f5e5eb8a-e345-4f8c-b7f5-1d8c0c6da600",
   "metadata": {},
   "outputs": [
    {
     "data": {
      "text/plain": [
       "True"
      ]
     },
     "execution_count": 9,
     "metadata": {},
     "output_type": "execute_result"
    }
   ],
   "source": [
    "type(x) == int"
   ]
  },
  {
   "cell_type": "markdown",
   "id": "203d4a90-ea68-4e9d-b501-8b73669922e5",
   "metadata": {},
   "source": [
    "23. Write a Python program to display your details like name, age, address in three different lines"
   ]
  },
  {
   "cell_type": "code",
   "execution_count": 17,
   "id": "3d91f1da-1dfd-43e0-ab26-81e09173b6c0",
   "metadata": {},
   "outputs": [
    {
     "name": "stdout",
     "output_type": "stream",
     "text": [
      "Name: Shrishail Donaj \n",
      "Age: 25 \n",
      "Adress: Jeevan bhima Nagar, Bengaluru, Karnataka\n"
     ]
    }
   ],
   "source": [
    "def details():\n",
    "    Name, Age = 'Shrishail Donaj', 25\n",
    "    Adress = 'Jeevan bhima Nagar, Bengaluru, Karnataka'\n",
    "    print('Name: {} \\nAge: {} \\nAdress: {}'.format(Name,Age,Adress))\n",
    "details()"
   ]
  },
  {
   "cell_type": "markdown",
   "id": "a0e72031-7f37-466a-a184-d690cd2c6166",
   "metadata": {},
   "source": [
    "24. Write a Python program to solve (x + y) * (x + y).\n",
    "\n",
    "\n",
    "Test Data : x = 4, y = 3\n",
    "\n",
    "Expected Output : (4 + 3) ^ 2) = 49"
   ]
  },
  {
   "cell_type": "code",
   "execution_count": 18,
   "id": "6591217c-365d-4788-922c-3f21da74c268",
   "metadata": {},
   "outputs": [
    {
     "data": {
      "text/plain": [
       "49"
      ]
     },
     "execution_count": 18,
     "metadata": {},
     "output_type": "execute_result"
    }
   ],
   "source": [
    "x,y= 4,3\n",
    "(x+y)*(x+y)"
   ]
  },
  {
   "cell_type": "code",
   "execution_count": 20,
   "id": "ca8b4665-c606-4ec1-a765-b68dc162ce4b",
   "metadata": {},
   "outputs": [],
   "source": [
    "results = (x+y)**2"
   ]
  },
  {
   "cell_type": "code",
   "execution_count": 23,
   "id": "ea07f674-e044-4b42-a29b-e3d66e8b2067",
   "metadata": {},
   "outputs": [
    {
     "name": "stdout",
     "output_type": "stream",
     "text": [
      "(4 + 3)^2) = 49\n"
     ]
    }
   ],
   "source": [
    "results = (x+y)**2\n",
    "print('({} + {})^2) = {}'.format(x,y,results))"
   ]
  },
  {
   "cell_type": "markdown",
   "id": "d0cd5dc2-33cf-4579-a2c3-1f587eff8a51",
   "metadata": {},
   "source": [
    "3. Write a Python program to remove and print every third number from a list of numbers until the list becomes empty.\n"
   ]
  },
  {
   "cell_type": "code",
   "execution_count": 7,
   "id": "695d3faa-5572-467c-9569-a6e366eb5cd1",
   "metadata": {},
   "outputs": [
    {
     "data": {
      "text/plain": [
       "[1, 2, 3, 4, 5, 6, 7, 8, 9, 10, 11, 12, 12, 14, 15, 16, 17, 18, 19, 20]"
      ]
     },
     "execution_count": 7,
     "metadata": {},
     "output_type": "execute_result"
    }
   ],
   "source": [
    "lists = [1,2,3,4,5,6,7,8,9,10,11,12,12,14,15,16,17,18,19,20]\n",
    "lists"
   ]
  },
  {
   "cell_type": "code",
   "execution_count": 20,
   "id": "ace85143-3bba-4bd5-a090-cdf8613f7bee",
   "metadata": {},
   "outputs": [
    {
     "name": "stdout",
     "output_type": "stream",
     "text": [
      "[1, 3, 5, 7, 9, 11, 12, 15, 17, 19]\n"
     ]
    }
   ],
   "source": [
    "for i in lists:\n",
    "    removed = lists[::2]\n",
    "print(removed)"
   ]
  },
  {
   "cell_type": "code",
   "execution_count": null,
   "id": "4ccb64be-5cbf-478f-b5d3-60ddc3950d79",
   "metadata": {},
   "outputs": [],
   "source": []
  },
  {
   "cell_type": "code",
   "execution_count": null,
   "id": "49686940-08d8-46a1-947e-89647c671c6a",
   "metadata": {},
   "outputs": [],
   "source": []
  },
  {
   "cell_type": "code",
   "execution_count": null,
   "id": "32fa5269-462a-4a63-a604-1cab319612ef",
   "metadata": {},
   "outputs": [],
   "source": []
  }
 ],
 "metadata": {
  "kernelspec": {
   "display_name": "Python 3 (ipykernel)",
   "language": "python",
   "name": "python3"
  },
  "language_info": {
   "codemirror_mode": {
    "name": "ipython",
    "version": 3
   },
   "file_extension": ".py",
   "mimetype": "text/x-python",
   "name": "python",
   "nbconvert_exporter": "python",
   "pygments_lexer": "ipython3",
   "version": "3.10.6"
  }
 },
 "nbformat": 4,
 "nbformat_minor": 5
}
