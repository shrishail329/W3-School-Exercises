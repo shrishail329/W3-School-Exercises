{
 "cells": [
  {
   "cell_type": "markdown",
   "id": "b12e12f5-46ed-4e59-b05e-5c93cc4430ef",
   "metadata": {},
   "source": [
    "1. Write a Python program to sum all the items in a list"
   ]
  },
  {
   "cell_type": "code",
   "execution_count": 2,
   "id": "c0fa53f3-6939-4ee8-961d-59151bf5de4d",
   "metadata": {},
   "outputs": [
    {
     "data": {
      "text/plain": [
       "45"
      ]
     },
     "execution_count": 2,
     "metadata": {},
     "output_type": "execute_result"
    }
   ],
   "source": [
    "sum_all = [1,2,3,4,5,6,7,8,9]\n",
    "sum(sum_all)"
   ]
  },
  {
   "cell_type": "code",
   "execution_count": 5,
   "id": "4ea784e8-4801-4581-97d3-6eceded540b2",
   "metadata": {},
   "outputs": [
    {
     "name": "stdout",
     "output_type": "stream",
     "text": [
      "21\n"
     ]
    }
   ],
   "source": [
    "def sum_all(items):\n",
    "    number = 0\n",
    "    for i in items:\n",
    "        number+=i\n",
    "    return number\n",
    "print(sum_all([1,2,3,4,5,6]))"
   ]
  },
  {
   "cell_type": "markdown",
   "id": "e62af85b-87e7-4d31-9dd6-d6aa9e81f004",
   "metadata": {},
   "source": [
    "2. Write a Python program to multiply all the items in a list."
   ]
  },
  {
   "cell_type": "code",
   "execution_count": 9,
   "id": "cea6867f-4d0d-459a-93b5-fdca00e466cb",
   "metadata": {},
   "outputs": [
    {
     "name": "stdout",
     "output_type": "stream",
     "text": [
      "40\n"
     ]
    }
   ],
   "source": [
    "def multiply_all(items):\n",
    "    number = 1\n",
    "    for i in items:\n",
    "        number*=i\n",
    "    return number\n",
    "print(multiply_all([1,2,4,5]))"
   ]
  },
  {
   "cell_type": "markdown",
   "id": "3ef9f144-f094-4914-bc22-ea4094de3730",
   "metadata": {},
   "source": [
    "3. Write a Python program to get the largest number from a list"
   ]
  },
  {
   "cell_type": "code",
   "execution_count": 31,
   "id": "f1d9efa0-c8b0-4028-96b3-22adaf9428f6",
   "metadata": {},
   "outputs": [
    {
     "data": {
      "text/plain": [
       "9"
      ]
     },
     "execution_count": 31,
     "metadata": {},
     "output_type": "execute_result"
    }
   ],
   "source": [
    "a = [1,2,3,4,5,6,7,8,9]\n",
    "a.sort(reverse=True)\n",
    "a[0]"
   ]
  },
  {
   "cell_type": "code",
   "execution_count": 23,
   "id": "c0f1ed6c-a07d-4ec1-b78d-713ff65e32cd",
   "metadata": {},
   "outputs": [
    {
     "name": "stdout",
     "output_type": "stream",
     "text": [
      "3\n"
     ]
    }
   ],
   "source": [
    "def max_nu(lists):\n",
    "    max=lists[0]\n",
    "    for i in lists:\n",
    "        if i>max:\n",
    "            max=i\n",
    "    return max\n",
    "print(max_nu([1,2,3]))\n",
    "    \n",
    "            "
   ]
  },
  {
   "cell_type": "code",
   "execution_count": 38,
   "id": "c0a7de4e-4d48-420d-9863-34ac7ac42f55",
   "metadata": {},
   "outputs": [
    {
     "data": {
      "text/plain": [
       "1"
      ]
     },
     "execution_count": 38,
     "metadata": {},
     "output_type": "execute_result"
    }
   ],
   "source": [
    "a = [1,2,3,4,5,6,7]\n",
    "min(a)"
   ]
  },
  {
   "cell_type": "markdown",
   "id": "db30efcc-c54e-47fc-b230-a9bc3933a2b0",
   "metadata": {},
   "source": [
    "4. Write a Python program to count the number of strings where the string length is 2 or more and the first and last character are same from a given list of strings. \n",
    "\n",
    "Sample List : ['abc', 'xyz', 'aba', '1221']\n",
    "\n",
    "Expected Result : 2"
   ]
  },
  {
   "cell_type": "code",
   "execution_count": 50,
   "id": "831722c2-0118-45e8-9e5b-d5b12846da7d",
   "metadata": {},
   "outputs": [
    {
     "name": "stdout",
     "output_type": "stream",
     "text": [
      "1221 : 2\n"
     ]
    }
   ],
   "source": [
    "li = ['abc','acd','bcb','1221']\n",
    "cl = 0\n",
    "for i in li:\n",
    "    if len(li)>1 and i[0]==i[-1]:\n",
    "        cl+=1\n",
    "print(i,':',cl)"
   ]
  },
  {
   "cell_type": "code",
   "execution_count": 49,
   "id": "547759d4-ab8b-4ad3-8c20-ec8ab49ae018",
   "metadata": {},
   "outputs": [
    {
     "name": "stdout",
     "output_type": "stream",
     "text": [
      "2\n"
     ]
    }
   ],
   "source": [
    "def number(no):\n",
    "    clt = 0\n",
    "    for i in no:\n",
    "        if len(no)>1 and i[0]==i[-1]:\n",
    "            clt+=1\n",
    "    return clt\n",
    "print(number(['abc','acd','bcb','1221']))"
   ]
  },
  {
   "cell_type": "markdown",
   "id": "64efc880-77c8-4533-830a-d1c9a215fed7",
   "metadata": {},
   "source": [
    "5.  Write a Python program to get a list, sorted in increasing order by the last element in each tuple from a given list of non-empty tuples.\n",
    "\n",
    "Sample List : [(2, 5), (1, 2), (4, 4), (2, 3), (2, 1)]\n",
    "\n",
    "Expected Result : [(2, 1), (1, 2), (2, 3), (4, 4), (2, 5)]"
   ]
  },
  {
   "cell_type": "code",
   "execution_count": 55,
   "id": "1edc10ff-b220-4d1e-95a1-60212888ba6a",
   "metadata": {},
   "outputs": [],
   "source": [
    "sample =  [(2, 5), (1, 2), (4, 4), (2, 3), (2, 1)]"
   ]
  },
  {
   "cell_type": "code",
   "execution_count": 60,
   "id": "8f77e859-8afe-479f-86d1-912e034b05d5",
   "metadata": {},
   "outputs": [
    {
     "ename": "TypeError",
     "evalue": "'tuple' object is not callable",
     "output_type": "error",
     "traceback": [
      "\u001b[0;31m---------------------------------------------------------------------------\u001b[0m",
      "\u001b[0;31mTypeError\u001b[0m                                 Traceback (most recent call last)",
      "Cell \u001b[0;32mIn [60], line 1\u001b[0m\n\u001b[0;32m----> 1\u001b[0m \u001b[38;5;28;43msorted\u001b[39;49m\u001b[43m(\u001b[49m\u001b[43msample\u001b[49m\u001b[43m,\u001b[49m\u001b[43mkey\u001b[49m\u001b[38;5;241;43m=\u001b[39;49m\u001b[43msample\u001b[49m\u001b[43m[\u001b[49m\u001b[38;5;241;43m-\u001b[39;49m\u001b[38;5;241;43m1\u001b[39;49m\u001b[43m]\u001b[49m\u001b[43m)\u001b[49m\n",
      "\u001b[0;31mTypeError\u001b[0m: 'tuple' object is not callable"
     ]
    }
   ],
   "source": [
    "sorted(sample,key=sample[-1])"
   ]
  },
  {
   "cell_type": "code",
   "execution_count": 56,
   "id": "d377013f-e725-4724-9e13-9e0d6daf6da5",
   "metadata": {},
   "outputs": [
    {
     "data": {
      "text/plain": [
       "[(2, 5), (1, 2), (4, 4), (2, 3), (2, 1)]"
      ]
     },
     "execution_count": 56,
     "metadata": {},
     "output_type": "execute_result"
    }
   ],
   "source": [
    "sample"
   ]
  },
  {
   "cell_type": "code",
   "execution_count": 61,
   "id": "e2604fc7-3267-4680-bf70-2463ebc15468",
   "metadata": {},
   "outputs": [
    {
     "name": "stdout",
     "output_type": "stream",
     "text": [
      "[(2, 1), (1, 2), (2, 3), (4, 4), (2, 5)]\n"
     ]
    }
   ],
   "source": [
    "def last(n):\n",
    "    return n[-1]\n",
    "def sorted_last(tuples):\n",
    "    return sorted(tuples,key=last)\n",
    "print(sorted_last([(2, 5), (1, 2), (4, 4), (2, 3), (2, 1)]))"
   ]
  },
  {
   "cell_type": "markdown",
   "id": "21ffb8db-9af9-421e-bc6a-6d51c068bd94",
   "metadata": {},
   "source": [
    "6. Write a Python program to remove duplicates from a list. "
   ]
  },
  {
   "cell_type": "code",
   "execution_count": 3,
   "id": "469511e5-e01f-4544-93c4-588fe80c613f",
   "metadata": {},
   "outputs": [
    {
     "data": {
      "text/plain": [
       "[1, 2, 3, 4, 5, 6, 41]"
      ]
     },
     "execution_count": 3,
     "metadata": {},
     "output_type": "execute_result"
    }
   ],
   "source": [
    "lis = [1,2,3,4,5,6,2,3,1,41,2,3,5,1,2,]\n",
    "removed_duplicate = list(set(lis))\n",
    "removed_duplicate"
   ]
  },
  {
   "cell_type": "code",
   "execution_count": 4,
   "id": "14900018-7482-4985-8175-e6baa11548e8",
   "metadata": {},
   "outputs": [
    {
     "name": "stdout",
     "output_type": "stream",
     "text": [
      "[1, 2, 3, 4, 5, 2.2, 'a', 'shree', 'manju']\n"
     ]
    }
   ],
   "source": [
    "def duplicate(lists):\n",
    "    return list(set(lists))\n",
    "print(duplicate([1,2,3,4,5,2,1,2,3,'shree','manju','shree','a','a',2.2,2,2,3]))"
   ]
  },
  {
   "cell_type": "markdown",
   "id": "a0215a7c-f167-44ad-967d-7e3695e98339",
   "metadata": {},
   "source": [
    "7. Write a Python program to check a list is empty or not"
   ]
  },
  {
   "cell_type": "code",
   "execution_count": 5,
   "id": "45685b3c-ca4e-4483-8c27-523d60a15807",
   "metadata": {},
   "outputs": [
    {
     "name": "stdout",
     "output_type": "stream",
     "text": [
      "list is not empty\n",
      "list is not empty\n",
      "list is not empty\n",
      "list is not empty\n",
      "list is not empty\n",
      "list is not empty\n"
     ]
    }
   ],
   "source": [
    "lis = [1,2,3,4,5,6]\n",
    "for i in lis:\n",
    "    if i == []:\n",
    "        print('list is empty')\n",
    "    else:\n",
    "        print('list is not empty')"
   ]
  },
  {
   "cell_type": "code",
   "execution_count": 12,
   "id": "ab0cd968-8269-4928-bbcc-143b15b06ce1",
   "metadata": {},
   "outputs": [
    {
     "name": "stdout",
     "output_type": "stream",
     "text": [
      "given list is empty\n",
      "('given list is not empty: -->', [1, 2, 3, 4, 5])\n"
     ]
    }
   ],
   "source": [
    "def empty_or_not(lists):\n",
    "    if lists==[]:\n",
    "        return 'given list is empty'\n",
    "    return 'given list is not empty: -->',lists\n",
    "print(empty_or_not([]))\n",
    "print(empty_or_not([1,2,3,4,5]))"
   ]
  },
  {
   "cell_type": "markdown",
   "id": "33ee4018-c61c-4bde-b66a-83bee548397c",
   "metadata": {},
   "source": [
    "8. Write a Python program to clone or copy a list."
   ]
  },
  {
   "cell_type": "code",
   "execution_count": 13,
   "id": "09df49f0-39d7-4f3a-8fec-2bf19d2996e2",
   "metadata": {},
   "outputs": [
    {
     "name": "stdout",
     "output_type": "stream",
     "text": [
      "[1, 2, 3, 4, 5, 6]\n",
      "[1, 2, 3, 4, 5, 6]\n"
     ]
    }
   ],
   "source": [
    "original_list = [1,2,3,4,5,6]\n",
    "new_list = list(original_list)\n",
    "\n",
    "print(original_list)\n",
    "print(new_list)"
   ]
  },
  {
   "cell_type": "markdown",
   "id": "0fa08d1b-0e0a-451f-8d2d-6493f8e5e82b",
   "metadata": {},
   "source": [
    "9. Write a Python program to find the list of words that are longer than n from a given list of words"
   ]
  },
  {
   "cell_type": "code",
   "execution_count": 14,
   "id": "81eb21b2-b8c5-4101-8af5-bdc8d6d77431",
   "metadata": {},
   "outputs": [
    {
     "name": "stdout",
     "output_type": "stream",
     "text": [
      "['Write']\n",
      "['Write']\n",
      "['Write', 'Python']\n",
      "['Write', 'Python', 'program']\n",
      "['Write', 'Python', 'program']\n",
      "['Write', 'Python', 'program', 'find']\n",
      "['Write', 'Python', 'program', 'find']\n",
      "['Write', 'Python', 'program', 'find', 'list']\n",
      "['Write', 'Python', 'program', 'find', 'list']\n",
      "['Write', 'Python', 'program', 'find', 'list', 'words']\n",
      "['Write', 'Python', 'program', 'find', 'list', 'words', 'that']\n",
      "['Write', 'Python', 'program', 'find', 'list', 'words', 'that']\n",
      "['Write', 'Python', 'program', 'find', 'list', 'words', 'that', 'longer']\n",
      "['Write', 'Python', 'program', 'find', 'list', 'words', 'that', 'longer', 'than']\n",
      "['Write', 'Python', 'program', 'find', 'list', 'words', 'that', 'longer', 'than']\n",
      "['Write', 'Python', 'program', 'find', 'list', 'words', 'that', 'longer', 'than', 'from']\n",
      "['Write', 'Python', 'program', 'find', 'list', 'words', 'that', 'longer', 'than', 'from']\n",
      "['Write', 'Python', 'program', 'find', 'list', 'words', 'that', 'longer', 'than', 'from', 'given']\n",
      "['Write', 'Python', 'program', 'find', 'list', 'words', 'that', 'longer', 'than', 'from', 'given', 'list']\n",
      "['Write', 'Python', 'program', 'find', 'list', 'words', 'that', 'longer', 'than', 'from', 'given', 'list']\n",
      "['Write', 'Python', 'program', 'find', 'list', 'words', 'that', 'longer', 'than', 'from', 'given', 'list', 'words']\n"
     ]
    }
   ],
   "source": [
    "word = []\n",
    "n = 3\n",
    "str =  'Write a Python program to find the list of words that are longer than n from a given list of words'\n",
    "\n",
    "txt = str.split(' ')\n",
    "for i in txt:\n",
    "    if len(i)>n:\n",
    "        word.append(i)\n",
    "    print(word)"
   ]
  },
  {
   "cell_type": "code",
   "execution_count": 20,
   "id": "590ffd8b-3adc-4d74-9a30-7f5123aa06b7",
   "metadata": {},
   "outputs": [
    {
     "name": "stdout",
     "output_type": "stream",
     "text": [
      "['Write', 'Python', 'program', 'words', 'longer', 'given', 'words']\n"
     ]
    }
   ],
   "source": [
    "def word_len(n,str):\n",
    "    word = []\n",
    "    txt = str.split(' ')\n",
    "    for i in txt:\n",
    "        if len(i)>n:\n",
    "            word.append(i)\n",
    "    return word\n",
    "\n",
    "print(word_len(4,'Write a Python program to find the list of words that are longer than n from a given list of words'))\n"
   ]
  },
  {
   "cell_type": "code",
   "execution_count": 18,
   "id": "c25007a2-c4e1-45b8-8ecd-309898fe2d2c",
   "metadata": {},
   "outputs": [
    {
     "name": "stdout",
     "output_type": "stream",
     "text": [
      "['shrishail', 'rizwan']\n"
     ]
    }
   ],
   "source": [
    "def word_len(n,str):\n",
    "    word = []\n",
    "    txt = str.split(' ')\n",
    "    for i in txt:\n",
    "        if len(i)>n:\n",
    "            word.append(i)\n",
    "    return word\n",
    "\n",
    "print(word_len(5,'shrishail Manju ravi subbu kiran rizwan'))\n"
   ]
  },
  {
   "cell_type": "markdown",
   "id": "abb71a23-2d02-4aa7-8c1d-18e404ff78f6",
   "metadata": {},
   "source": [
    "10. Write a Python function that takes two lists and returns True if they have at least one common member."
   ]
  },
  {
   "cell_type": "code",
   "execution_count": 32,
   "id": "5f33d646-9f11-41e8-9634-275c3e67fea4",
   "metadata": {},
   "outputs": [
    {
     "name": "stdout",
     "output_type": "stream",
     "text": [
      "True\n",
      "False\n",
      "False\n",
      "False\n",
      "True\n",
      "False\n"
     ]
    }
   ],
   "source": [
    "lis1 = ['apple','mango','grapes','banana']\n",
    "lis2 = ['citrus','banana','apple','papaya']\n",
    "\n",
    "for i in lis1:\n",
    "    for j in lis2:\n",
    "        if i==j:\n",
    "            print(True)\n",
    "    else:\n",
    "        print(False)"
   ]
  },
  {
   "cell_type": "code",
   "execution_count": 34,
   "id": "21b589e0-1038-4ded-992c-592ff7e7f723",
   "metadata": {},
   "outputs": [
    {
     "name": "stdout",
     "output_type": "stream",
     "text": [
      "True\n"
     ]
    }
   ],
   "source": [
    "def check_value(lis1,lis2):\n",
    "    result = 'False'\n",
    "    for i in lis1:\n",
    "        for j in lis2:\n",
    "            if i==j:\n",
    "                return 'True'\n",
    "                return result\n",
    "print(check_value(lis1 = ['apple','mango','grapes','banana'],\n",
    "lis2 = ['citrus','banana','apple','papaya']))"
   ]
  },
  {
   "cell_type": "markdown",
   "id": "5c61afb4-532a-4f5d-8ef1-cf0cb3e9710e",
   "metadata": {},
   "source": [
    "11. Write a Python program to print a specified list after removing the 0th, 4th and 5th elements.\n",
    "\n",
    "Sample List : ['Red', 'Green', 'White', 'Black', 'Pink', 'Yellow']\n",
    "\n",
    "Expected Output : ['Green', 'White', 'Black']"
   ]
  },
  {
   "cell_type": "code",
   "execution_count": 60,
   "id": "9be98bb3-e3d1-4b8e-b02e-3d55e7a6c852",
   "metadata": {},
   "outputs": [],
   "source": [
    "sample_list = ['Red', 'Green', 'White', 'Black', 'Pink', 'Yellow']"
   ]
  },
  {
   "cell_type": "code",
   "execution_count": 66,
   "id": "eabb46f0-efc9-4fc3-b79b-76fb62e464e0",
   "metadata": {},
   "outputs": [
    {
     "name": "stdout",
     "output_type": "stream",
     "text": [
      "White\n",
      "Black\n",
      "Pink\n"
     ]
    }
   ],
   "source": [
    "for i,j in enumerate(sample_list):\n",
    "    if i not in (0,4,5):\n",
    "        print(j)"
   ]
  },
  {
   "cell_type": "markdown",
   "id": "4fad681e-bb8e-46d4-bbc2-05f07a0c4d35",
   "metadata": {},
   "source": [
    "12. Write a Python program to print the numbers of a specified list after removing even numbers from it"
   ]
  },
  {
   "cell_type": "code",
   "execution_count": 86,
   "id": "0774fb33-32ba-414c-ba8b-29aab1eb8023",
   "metadata": {},
   "outputs": [],
   "source": [
    "lis = [1,2,3,4,5,6,7,8,9,10,11,12,13,14,15]\n",
    "odd_number = [i for i in lis if i%2!=0] # after removing even number"
   ]
  },
  {
   "cell_type": "code",
   "execution_count": 87,
   "id": "2052e46a-7bb5-43a6-8ff2-e69559d62ebd",
   "metadata": {},
   "outputs": [
    {
     "data": {
      "text/plain": [
       "[1, 3, 5, 7, 9, 11, 13, 15]"
      ]
     },
     "execution_count": 87,
     "metadata": {},
     "output_type": "execute_result"
    }
   ],
   "source": [
    "odd_number"
   ]
  },
  {
   "cell_type": "markdown",
   "id": "df9b2120-8cd0-4e96-a951-b5586b7fe57f",
   "metadata": {},
   "source": [
    "13. Write a Python program to shuffle and print a specified list"
   ]
  },
  {
   "cell_type": "code",
   "execution_count": 91,
   "id": "bcb26866-a8a3-4655-8e76-686183ede02a",
   "metadata": {},
   "outputs": [
    {
     "name": "stdout",
     "output_type": "stream",
     "text": [
      "['White', 'Pink', 'Red', 'banana', 'mango', 'Black', 'Green', 'apple', 'grapes', 'Yellow']\n"
     ]
    }
   ],
   "source": [
    "from random import shuffle\n",
    "lis =  ['apple','mango','grapes','banana','Red', 'Green', 'White', 'Black', 'Pink', 'Yellow']\n",
    "shuffle(lis)\n",
    "print(lis)"
   ]
  },
  {
   "cell_type": "markdown",
   "id": "9cbf452e-1517-46ea-a014-d49ac253ef63",
   "metadata": {},
   "source": [
    "14. Write a Python program to generate and print a list of first and last 5 elements where the values are square of numbers between 1 and 30 (both included)"
   ]
  },
  {
   "cell_type": "code",
   "execution_count": 109,
   "id": "287877d2-278c-410b-bd85-a7cee9bc9b65",
   "metadata": {},
   "outputs": [
    {
     "name": "stdout",
     "output_type": "stream",
     "text": [
      "[1]\n",
      "[1]\n",
      "[1, 4]\n",
      "[1, 4]\n",
      "[1, 4, 9]\n",
      "[1, 4, 9]\n",
      "[1, 4, 9, 16]\n",
      "[1, 4, 9, 16]\n",
      "[1, 4, 9, 16, 25]\n",
      "[1, 4, 9, 16, 25]\n",
      "[1, 4, 9, 16, 25]\n",
      "[4, 9, 16, 25, 36]\n",
      "[1, 4, 9, 16, 25]\n",
      "[9, 16, 25, 36, 49]\n",
      "[1, 4, 9, 16, 25]\n",
      "[16, 25, 36, 49, 64]\n",
      "[1, 4, 9, 16, 25]\n",
      "[25, 36, 49, 64, 81]\n",
      "[1, 4, 9, 16, 25]\n",
      "[36, 49, 64, 81, 100]\n",
      "[1, 4, 9, 16, 25]\n",
      "[49, 64, 81, 100, 121]\n",
      "[1, 4, 9, 16, 25]\n",
      "[64, 81, 100, 121, 144]\n",
      "[1, 4, 9, 16, 25]\n",
      "[81, 100, 121, 144, 169]\n",
      "[1, 4, 9, 16, 25]\n",
      "[100, 121, 144, 169, 196]\n",
      "[1, 4, 9, 16, 25]\n",
      "[121, 144, 169, 196, 225]\n",
      "[1, 4, 9, 16, 25]\n",
      "[144, 169, 196, 225, 256]\n",
      "[1, 4, 9, 16, 25]\n",
      "[169, 196, 225, 256, 289]\n",
      "[1, 4, 9, 16, 25]\n",
      "[196, 225, 256, 289, 324]\n",
      "[1, 4, 9, 16, 25]\n",
      "[225, 256, 289, 324, 361]\n",
      "[1, 4, 9, 16, 25]\n",
      "[256, 289, 324, 361, 400]\n",
      "None\n"
     ]
    }
   ],
   "source": [
    "def values():\n",
    "    l = list()\n",
    "    for i in range(1,21):\n",
    "        l.append(i**2)\n",
    "        print(l[:5])\n",
    "        print(l[-5:])\n",
    "print(values())"
   ]
  },
  {
   "cell_type": "markdown",
   "id": "07366182-b288-4a14-a7eb-629a4913232b",
   "metadata": {},
   "source": [
    "15. Write a Python program to generate and print a list except for the first 5 elements, where the values are square of numbers between 1 and 30 (both included)."
   ]
  },
  {
   "cell_type": "code",
   "execution_count": 111,
   "id": "2c031556-4cee-4f65-bbca-8204fd075147",
   "metadata": {},
   "outputs": [
    {
     "name": "stdout",
     "output_type": "stream",
     "text": [
      "[]\n",
      "[]\n",
      "[]\n",
      "[]\n",
      "[]\n",
      "[36]\n",
      "[36, 49]\n",
      "[36, 49, 64]\n",
      "[36, 49, 64, 81]\n",
      "[36, 49, 64, 81, 100]\n",
      "[36, 49, 64, 81, 100, 121]\n",
      "[36, 49, 64, 81, 100, 121, 144]\n",
      "[36, 49, 64, 81, 100, 121, 144, 169]\n",
      "[36, 49, 64, 81, 100, 121, 144, 169, 196]\n",
      "[36, 49, 64, 81, 100, 121, 144, 169, 196, 225]\n",
      "[36, 49, 64, 81, 100, 121, 144, 169, 196, 225, 256]\n",
      "[36, 49, 64, 81, 100, 121, 144, 169, 196, 225, 256, 289]\n",
      "[36, 49, 64, 81, 100, 121, 144, 169, 196, 225, 256, 289, 324]\n",
      "[36, 49, 64, 81, 100, 121, 144, 169, 196, 225, 256, 289, 324, 361]\n",
      "[36, 49, 64, 81, 100, 121, 144, 169, 196, 225, 256, 289, 324, 361, 400]\n"
     ]
    }
   ],
   "source": [
    "def except_1st_five():\n",
    "    l = list()\n",
    "    for i in range(1,21):\n",
    "        l.append(i**2)\n",
    "        print(l[5:])\n",
    "except_1st_five()"
   ]
  },
  {
   "cell_type": "markdown",
   "id": "acb128f4-3fd8-4bc8-94c8-e94570e5c313",
   "metadata": {},
   "source": [
    "16. Write a Python program to convert a list of characters into a string"
   ]
  },
  {
   "cell_type": "code",
   "execution_count": 137,
   "id": "0c049bfe-ddc8-4f1c-9543-0740314e7e06",
   "metadata": {},
   "outputs": [
    {
     "name": "stdout",
     "output_type": "stream",
     "text": [
      "<class 'list'>\n",
      ",123456789101234567891012345678910123456789101\n",
      ",1234567891012345678910123456789101234567891012\n",
      ",12345678910123456789101234567891012345678910123\n",
      ",123456789101234567891012345678910123456789101234\n",
      ",1234567891012345678910123456789101234567891012345\n",
      ",12345678910123456789101234567891012345678910123456\n",
      ",123456789101234567891012345678910123456789101234567\n",
      ",1234567891012345678910123456789101234567891012345678\n",
      ",12345678910123456789101234567891012345678910123456789\n",
      ",1234567891012345678910123456789101234567891012345678910\n"
     ]
    }
   ],
   "source": [
    "lis = ['1','2','3','4','5','6','7','8','9','10']\n",
    "print(type(lis))\n",
    "\n",
    "# convert list to string \n",
    "strr = ' '\n",
    "for i in lis:\n",
    "    l+=i\n",
    "    print(l)"
   ]
  },
  {
   "cell_type": "markdown",
   "id": "bc5f7c94-f903-44f6-852c-9e7009461432",
   "metadata": {},
   "source": [
    "17. Write a Python program to find the index of an item in a specified list"
   ]
  },
  {
   "cell_type": "code",
   "execution_count": 141,
   "id": "91077d78-2452-4a7b-8877-868cd4f05028",
   "metadata": {},
   "outputs": [
    {
     "data": {
      "text/plain": [
       "4"
      ]
     },
     "execution_count": 141,
     "metadata": {},
     "output_type": "execute_result"
    }
   ],
   "source": [
    "num = [1,2,3,4,5,6,7,8,9,10]\n",
    "num.index(5)"
   ]
  },
  {
   "cell_type": "markdown",
   "id": "b57b0afe-fca8-4384-ba8b-05cc71a21db8",
   "metadata": {},
   "source": [
    "18. Write a Python program to append a list to the second list."
   ]
  },
  {
   "cell_type": "code",
   "execution_count": 1,
   "id": "79104bc6-ef5e-4c93-89e7-9455b3054fa2",
   "metadata": {},
   "outputs": [
    {
     "name": "stdout",
     "output_type": "stream",
     "text": [
      "[1]\n",
      "[1, 2]\n",
      "[1, 2, 3]\n",
      "[1, 2, 3, 4]\n",
      "[1, 2, 3, 4, 5]\n",
      "[1, 2, 3, 4, 5, 6]\n",
      "[1, 2, 3, 4, 5, 6, 7]\n",
      "[1, 2, 3, 4, 5, 6, 7, 8]\n",
      "[1, 2, 3, 4, 5, 6, 7, 8, 9]\n"
     ]
    }
   ],
   "source": [
    "new_list = []\n",
    "old_list = [1,2,3,4,5,6,7,8,9]\n",
    "for i in old_list:\n",
    "    new_list.append(i)\n",
    "    print(new_list)"
   ]
  },
  {
   "cell_type": "code",
   "execution_count": 3,
   "id": "4d1dfc71-dd47-4fe4-9cd8-bd0ac8857e87",
   "metadata": {},
   "outputs": [
    {
     "data": {
      "text/plain": [
       "[1, 2, 3, 4, 5, 6, 7, 8, 9]"
      ]
     },
     "execution_count": 3,
     "metadata": {},
     "output_type": "execute_result"
    }
   ],
   "source": [
    "old_list"
   ]
  },
  {
   "cell_type": "code",
   "execution_count": 8,
   "id": "2eee2374-1532-470b-9ecd-382b53eb6d84",
   "metadata": {},
   "outputs": [
    {
     "name": "stdout",
     "output_type": "stream",
     "text": [
      "[1, 2, 3, 4, 5, 6, 7, 8, 9]\n"
     ]
    }
   ],
   "source": [
    "def secon_list(n):\n",
    "    new_list = []\n",
    "    for i in n:\n",
    "        new_list.append(i)\n",
    "    return new_list\n",
    "print(secon_list([1,2,3,4,5,6,7,8,9]))"
   ]
  },
  {
   "cell_type": "markdown",
   "id": "a8f1ae54-c199-4fa3-b39c-cebc83c344b3",
   "metadata": {},
   "source": [
    "19. Write a Python program to select an item randomly from a list"
   ]
  },
  {
   "cell_type": "code",
   "execution_count": 10,
   "id": "d6a1c1a5-107a-4a8e-9f4d-c17e69e6b9a4",
   "metadata": {},
   "outputs": [
    {
     "name": "stdout",
     "output_type": "stream",
     "text": [
      "white\n"
     ]
    }
   ],
   "source": [
    "import random # Here we have to import the random \n",
    "colour_list = ['red','pink','blue','orange','yellow','black','white','green']\n",
    "print(random.choice(colour_list))"
   ]
  },
  {
   "cell_type": "markdown",
   "id": "be81d2a0-11d4-4a99-a5dd-71fe304b2f43",
   "metadata": {},
   "source": [
    "20. Write a Python program to find the second smallest number in a list."
   ]
  },
  {
   "cell_type": "code",
   "execution_count": 4,
   "id": "ac8f7e50-baed-4ece-9f9a-3d4f65d87a6d",
   "metadata": {},
   "outputs": [
    {
     "name": "stdout",
     "output_type": "stream",
     "text": [
      "[-565, -4, -2, 1, 2, 2, 3, 3, 3, 4, 5, 5, 5, 5, 6, 7, 8, 9, 10, 52, 65, 66, 215, 632, 856]\n",
      "-4\n"
     ]
    }
   ],
   "source": [
    "number = [1,2,3,4,5,6,7,856,5,66,-4,5,2,-565,-2,52,3,5,3,215,65,632,8,9,10]\n",
    "# sort the list \n",
    "number.sort()\n",
    "print(number)\n",
    "#find the second samllest number\n",
    "print(number[1])"
   ]
  },
  {
   "cell_type": "markdown",
   "id": "2432b35d-6fd5-41b0-b4ad-a5f7dd09c005",
   "metadata": {},
   "source": [
    "21. Write a Python program to find the second largest number in a list."
   ]
  },
  {
   "cell_type": "code",
   "execution_count": 5,
   "id": "2557d263-1605-4a03-9e0b-034424bb3ec9",
   "metadata": {},
   "outputs": [
    {
     "name": "stdout",
     "output_type": "stream",
     "text": [
      "[-565, -4, -2, 1, 2, 2, 3, 3, 3, 4, 5, 5, 5, 5, 6, 7, 8, 9, 10, 52, 65, 66, 215, 632, 856]\n",
      "632\n"
     ]
    }
   ],
   "source": [
    "number = [1,2,3,4,5,6,7,856,5,66,-4,5,2,-565,-2,52,3,5,3,215,65,632,8,9,10]\n",
    "# sort the list\n",
    "number.sort()\n",
    "print(number)\n",
    "#find the second largest number from given list\n",
    "print(number[-2])\n"
   ]
  },
  {
   "cell_type": "markdown",
   "id": "892e372c-05db-4fcc-84c4-a627737c6517",
   "metadata": {},
   "source": [
    "22. Write a Python program to get unique values from a list."
   ]
  },
  {
   "cell_type": "code",
   "execution_count": 14,
   "id": "065302ac-b29a-41f6-b641-f3007fce3946",
   "metadata": {},
   "outputs": [
    {
     "name": "stdout",
     "output_type": "stream",
     "text": [
      "[32, 1, 2, 3, 4, 5, 6, 65, 41, 12, 52, 54]\n"
     ]
    }
   ],
   "source": [
    "values = [1,2,3,5,2,4,5,2,6,41,2,65,54,12,52,1,2,1,12,32,1,]\n",
    "# find out the unique values from list\n",
    "import numpy as np\n",
    "unique_values = set(values)\n",
    "print(list(unique_values))"
   ]
  },
  {
   "cell_type": "markdown",
   "id": "84830aed-007b-46d2-9113-6dc3f3dd7bce",
   "metadata": {},
   "source": [
    "23. Write a Python program to get the frequency of the elements in a list. "
   ]
  },
  {
   "cell_type": "code",
   "execution_count": 21,
   "id": "25f90749-2383-40c0-80a7-64c2663cccfa",
   "metadata": {},
   "outputs": [
    {
     "data": {
      "text/plain": [
       "Counter({1: 4,\n",
       "         2: 5,\n",
       "         3: 1,\n",
       "         5: 2,\n",
       "         4: 1,\n",
       "         6: 1,\n",
       "         41: 1,\n",
       "         65: 1,\n",
       "         54: 1,\n",
       "         12: 2,\n",
       "         52: 1,\n",
       "         32: 1})"
      ]
     },
     "execution_count": 21,
     "metadata": {},
     "output_type": "execute_result"
    }
   ],
   "source": [
    "values = [1,2,3,5,2,4,5,2,6,41,2,65,54,12,52,1,2,1,12,32,1,]\n",
    "# Import Collection to get the Frequency\n",
    "import collections\n",
    "#get the frequency\n",
    "collections.Counter(values)"
   ]
  },
  {
   "cell_type": "markdown",
   "id": "c79f5ae7-5c6c-4f12-ba44-996037f298fa",
   "metadata": {},
   "source": [
    "24. Write a Python program to create a list by concatenating a given list which range goes from 1 to n.\n",
    "\n",
    "Sample list : ['p', 'q']\n",
    "\n",
    "n =5\n",
    "\n",
    "Sample Output : ['p1', 'q1', 'p2', 'q2', 'p3', 'q3', 'p4', 'q4', 'p5', 'q5']\n"
   ]
  },
  {
   "cell_type": "code",
   "execution_count": 48,
   "id": "0bb26359-3211-47eb-8ecf-a7504bbfb2ae",
   "metadata": {},
   "outputs": [
    {
     "data": {
      "text/plain": [
       "['p1', 'q1', 'p2', 'q2', 'p3', 'q3', 'p4', 'q4', 'p5', 'q5']"
      ]
     },
     "execution_count": 48,
     "metadata": {},
     "output_type": "execute_result"
    }
   ],
   "source": [
    "sample = ['p','q']\n",
    "n=5\n",
    "['{}{}'.format(x,y) for y in range (1,n+1) for x in sample]"
   ]
  },
  {
   "cell_type": "markdown",
   "id": "9559e8b4-7f29-4c05-a387-b2e53c7e8b4d",
   "metadata": {},
   "source": [
    "25. Write a Python program to get variable unique identification number or string."
   ]
  },
  {
   "cell_type": "code",
   "execution_count": 65,
   "id": "6808d345-d6d6-48a0-bfc1-77a3542bc2dd",
   "metadata": {},
   "outputs": [
    {
     "name": "stdout",
     "output_type": "stream",
     "text": [
      "7fb6c4d24d50\n",
      "7fb46dadf0f0\n"
     ]
    }
   ],
   "source": [
    "x = 100\n",
    "print(format(id(x),'x'))\n",
    "y = 'shrishail'\n",
    "print(format(id(y),'x'))"
   ]
  },
  {
   "cell_type": "markdown",
   "id": "5781816a-ab45-4b94-b98b-9271afc0bc95",
   "metadata": {},
   "source": [
    "26. Write a Python program to find common items from two lists."
   ]
  },
  {
   "cell_type": "code",
   "execution_count": 68,
   "id": "a63f4712-1126-41b3-9b4d-17b3f416cb8a",
   "metadata": {},
   "outputs": [
    {
     "name": "stdout",
     "output_type": "stream",
     "text": [
      "{'White', 'Green'}\n"
     ]
    }
   ],
   "source": [
    "color1 = \"Red\", \"Green\", \"Orange\", \"White\"\n",
    "color2 = \"Black\", \"Green\", \"White\", \"Pink\"\n",
    "\n",
    "comon_vaue = set(color1) & set(color2)\n",
    "print(comon_vaue)"
   ]
  },
  {
   "cell_type": "markdown",
   "id": "2ac477d8-9237-4091-a173-c514b699a772",
   "metadata": {},
   "source": [
    "30. Write a Python program to convert a list of multiple integers into a single integer.\n",
    "\n",
    "Sample list: [11, 33, 50]\n",
    "\n",
    "Expected Output: 113350"
   ]
  },
  {
   "cell_type": "code",
   "execution_count": 73,
   "id": "54b4480f-8e7c-493e-92b9-171c1f0a5d87",
   "metadata": {},
   "outputs": [],
   "source": [
    "sample = [11,33,50]\n",
    "sa = [i for i in sample]"
   ]
  },
  {
   "cell_type": "code",
   "execution_count": 86,
   "id": "807b962c-b9e1-475c-bd1a-f7c8f6dfcfcb",
   "metadata": {},
   "outputs": [
    {
     "data": {
      "text/plain": [
       "113350"
      ]
     },
     "execution_count": 86,
     "metadata": {},
     "output_type": "execute_result"
    }
   ],
   "source": [
    "int(''.join(map(str,sample)))"
   ]
  },
  {
   "cell_type": "code",
   "execution_count": null,
   "id": "85085d72-9c14-4f57-9c61-fc94154b3858",
   "metadata": {},
   "outputs": [],
   "source": []
  }
 ],
 "metadata": {
  "kernelspec": {
   "display_name": "Python 3 (ipykernel)",
   "language": "python",
   "name": "python3"
  },
  "language_info": {
   "codemirror_mode": {
    "name": "ipython",
    "version": 3
   },
   "file_extension": ".py",
   "mimetype": "text/x-python",
   "name": "python",
   "nbconvert_exporter": "python",
   "pygments_lexer": "ipython3",
   "version": "3.10.6"
  }
 },
 "nbformat": 4,
 "nbformat_minor": 5
}
