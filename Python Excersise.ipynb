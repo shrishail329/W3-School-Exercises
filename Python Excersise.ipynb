{
 "cells": [
  {
   "cell_type": "markdown",
   "id": "437a8211-6b5f-4d54-931a-ba572dab9d9b",
   "metadata": {},
   "source": [
    "## Welcome to Jupyter Q&A Session "
   ]
  },
  {
   "cell_type": "markdown",
   "id": "0e257893-9925-4c4f-9159-32b39adebac3",
   "metadata": {
    "tags": []
   },
   "source": [
    "## Python Data Type: String - Exercises, Practice, Solution"
   ]
  },
  {
   "cell_type": "markdown",
   "id": "7d1f1cbc-ac2f-4253-a28b-bbd0a6f3ef4a",
   "metadata": {},
   "source": [
    "1. 1. Write a Python program to calculate the length of a string."
   ]
  },
  {
   "cell_type": "code",
   "execution_count": 4,
   "id": "3f935631-b503-48c7-8078-6638b3955431",
   "metadata": {},
   "outputs": [
    {
     "name": "stdout",
     "output_type": "stream",
     "text": [
      "9\n",
      "15\n",
      "11\n"
     ]
    }
   ],
   "source": [
    "def len_of_string(str):\n",
    "    return len(str)\n",
    "print(len_of_string(str('shrishail')))\n",
    "print(len_of_string(str('manjunathathani')))\n",
    "print(len_of_string(str('saif_kohiri')))\n"
   ]
  },
  {
   "cell_type": "markdown",
   "id": "b6547aca-96e9-49aa-ba0a-5e3c1063086e",
   "metadata": {},
   "source": [
    "2. Write a Python program to count the number of characters (character frequency) in a string.\n",
    "\n",
    "Sample String : google.com'\n",
    "\n",
    "Expected Result : {'g': 2, 'o': 3, 'l': 1, 'e': 1, '.': 1, 'c': 1, 'm': 1}"
   ]
  },
  {
   "cell_type": "code",
   "execution_count": 36,
   "id": "af0029ec-b1c8-4289-9957-b2598f3124c5",
   "metadata": {},
   "outputs": [
    {
     "name": "stdout",
     "output_type": "stream",
     "text": [
      "{'g': 2, 'o': 3, 'l': 1, 'e': 1, '.': 1, 'c': 1, 'm': 1}\n"
     ]
    }
   ],
   "source": [
    "def char_frequency(str1):\n",
    "    dict = {}\n",
    "    for n in str1:\n",
    "        keys = dict.keys()\n",
    "        if n in keys:\n",
    "            dict[n] += 1\n",
    "        else:\n",
    "            dict[n] = 1\n",
    "    return dict\n",
    "print(char_frequency('google.com'))\n"
   ]
  },
  {
   "cell_type": "markdown",
   "id": "aacc17ec-0a3f-4c66-8676-e58abbc1ecaa",
   "metadata": {},
   "source": [
    "3. Write a Python program to get a string made of the first 2 and the last 2 chars from a given a string. If the string length is less than 2, return instead of the empty string"
   ]
  },
  {
   "cell_type": "code",
   "execution_count": 68,
   "id": "7239a79e-e46a-4c6a-b285-660afc6d191e",
   "metadata": {},
   "outputs": [
    {
     "name": "stdout",
     "output_type": "stream",
     "text": [
      "shil\n",
      "w3es\n",
      "w2w2\n",
      "\n"
     ]
    }
   ],
   "source": [
    "def string_both_end(string):\n",
    "    for i in string:\n",
    "        if len(string)<2:\n",
    "            return ''\n",
    "    return string[:2]+string[-2:]\n",
    "\n",
    "print(string_both_end('shrishail'))\n",
    "print(string_both_end('w3resources'))\n",
    "print(string_both_end('w2'))\n",
    "print(string_both_end('w'))\n",
    "    "
   ]
  },
  {
   "cell_type": "code",
   "execution_count": 62,
   "id": "5db4ee67-79cc-42b9-9a3c-2f12969c189b",
   "metadata": {},
   "outputs": [
    {
     "name": "stdout",
     "output_type": "stream",
     "text": [
      "shil\n"
     ]
    }
   ],
   "source": [
    "a = 'shrishail'\n",
    "for i in a:\n",
    "    if len(a)<2:\n",
    "        print('')\n",
    "else:\n",
    "    print(a[:2]+a[-2:])"
   ]
  },
  {
   "cell_type": "code",
   "execution_count": 63,
   "id": "5095227b-5e72-4f3b-a9dc-6850b2c45d95",
   "metadata": {},
   "outputs": [
    {
     "name": "stdout",
     "output_type": "stream",
     "text": [
      "shsh\n"
     ]
    }
   ],
   "source": [
    "a = 'sh'\n",
    "for i in a:\n",
    "    if len(a)<2:\n",
    "        print('')\n",
    "else:\n",
    "    print(a[:2]+a[-2:])"
   ]
  },
  {
   "cell_type": "markdown",
   "id": "dfa1c562-b5de-40a8-9cbe-53c42a89d38b",
   "metadata": {},
   "source": [
    "4. Write a Python program to get a string from a given string where all occurrences of its first char have been changed to '$', except the first char itself.\n",
    "\n",
    "Sample String : 'restart'\n",
    "\n",
    "Expected Result : 'resta$t'"
   ]
  },
  {
   "cell_type": "code",
   "execution_count": 74,
   "id": "6147ff33-dc6d-4798-99af-ef63bf54fd85",
   "metadata": {},
   "outputs": [],
   "source": [
    "sample = 'restart'\n",
    "char = sample[0]\n",
    "sample = sample.replace(char,'$')\n",
    "sample = char+sample[1:]"
   ]
  },
  {
   "cell_type": "code",
   "execution_count": 75,
   "id": "0785b9e8-b3d3-443e-a4d8-d64be0476137",
   "metadata": {},
   "outputs": [
    {
     "data": {
      "text/plain": [
       "'resta$t'"
      ]
     },
     "execution_count": 75,
     "metadata": {},
     "output_type": "execute_result"
    }
   ],
   "source": [
    "sample"
   ]
  },
  {
   "cell_type": "code",
   "execution_count": 78,
   "id": "48a7070a-158e-4666-b12f-edeee3575e65",
   "metadata": {},
   "outputs": [],
   "source": [
    "sample = char+sample[1:]"
   ]
  },
  {
   "cell_type": "code",
   "execution_count": 79,
   "id": "5abb5c7b-f089-423a-8f02-f5d4383a78fe",
   "metadata": {},
   "outputs": [
    {
     "data": {
      "text/plain": [
       "'resta$t'"
      ]
     },
     "execution_count": 79,
     "metadata": {},
     "output_type": "execute_result"
    }
   ],
   "source": [
    "sample"
   ]
  },
  {
   "cell_type": "code",
   "execution_count": 80,
   "id": "fc3e0f5a-6faa-4cc7-a69a-4dc5d884612c",
   "metadata": {},
   "outputs": [],
   "source": [
    "sample = 'shrishail'\n",
    "char = sample[0]\n",
    "sample = sample.replace(char,'$')\n",
    "sample = char+sample[1:]"
   ]
  },
  {
   "cell_type": "code",
   "execution_count": 81,
   "id": "d0f4a737-ad6d-48d6-a792-9e42a9cf1731",
   "metadata": {},
   "outputs": [
    {
     "data": {
      "text/plain": [
       "'shri$hail'"
      ]
     },
     "execution_count": 81,
     "metadata": {},
     "output_type": "execute_result"
    }
   ],
   "source": [
    "sample"
   ]
  },
  {
   "cell_type": "markdown",
   "id": "0ed12acc-ebc1-40c1-a2a7-601500b6579b",
   "metadata": {},
   "source": [
    "5. Write a Python program to get a single string from two given strings, separated by a space and swap the first two characters of each string. \n",
    "\n",
    "Sample String : 'abc', 'xyz'\n",
    "\n",
    "Expected Result : 'xyc abz"
   ]
  },
  {
   "cell_type": "code",
   "execution_count": 112,
   "id": "394fd664-772b-42da-a667-7aa423eb7a67",
   "metadata": {},
   "outputs": [],
   "source": [
    "sample1 = 'xyz'\n",
    "sample2 = 'abc'\n",
    "\n",
    "char1 = sample1[:2]\n",
    "char2 = sample[:2]\n"
   ]
  },
  {
   "cell_type": "code",
   "execution_count": 128,
   "id": "1713f808-ddb5-4760-a067-a85d115612a4",
   "metadata": {},
   "outputs": [
    {
     "name": "stdout",
     "output_type": "stream",
     "text": [
      "xyc abz\n"
     ]
    }
   ],
   "source": [
    "char1 = sample1[:2]+sample2[2:]\n",
    "char2 = sample2[:2]+sample1[2:]\n",
    "print(char1+' '+char2)"
   ]
  },
  {
   "cell_type": "markdown",
   "id": "bca8527a-8019-4ae4-9e5d-3211c9407884",
   "metadata": {},
   "source": [
    "6. Write a Python program to add 'ing' at the end of a given string (length should be at least 3). If the given string already ends with 'ing' then add 'ly' instead. If the string length of the given string is less than 3, leave it unchanged"
   ]
  },
  {
   "cell_type": "code",
   "execution_count": 135,
   "id": "a6e69984-0627-4e35-b858-a063d6b9858b",
   "metadata": {},
   "outputs": [
    {
     "name": "stdout",
     "output_type": "stream",
     "text": [
      "abcing\n"
     ]
    }
   ],
   "source": [
    "sample = 'abc'\n",
    "if len(sample)==3:\n",
    "    print(sample+'ing')\n",
    "    if sample == 'ing':\n",
    "        print(sample.replace('ing','ly')"
   ]
  },
  {
   "cell_type": "code",
   "execution_count": 138,
   "id": "4375fe2e-8388-4be6-b6a7-be277f1fbecf",
   "metadata": {},
   "outputs": [
    {
     "name": "stdout",
     "output_type": "stream",
     "text": [
      "stringly\n"
     ]
    }
   ],
   "source": [
    "sample = 'string'\n",
    "if 'ing' in sample:\n",
    "        print(sample+'ly')"
   ]
  },
  {
   "cell_type": "code",
   "execution_count": 139,
   "id": "f2a32ddb-3cb5-466d-829a-ba017df7c786",
   "metadata": {},
   "outputs": [
    {
     "name": "stdout",
     "output_type": "stream",
     "text": [
      "string\n"
     ]
    }
   ],
   "source": [
    "if len(sample)>3:\n",
    "    print(sample)"
   ]
  },
  {
   "cell_type": "code",
   "execution_count": 141,
   "id": "f9b223fa-7e9c-4076-be63-d320b5a72138",
   "metadata": {},
   "outputs": [
    {
     "name": "stdout",
     "output_type": "stream",
     "text": [
      "abcing\n",
      "stringly\n"
     ]
    }
   ],
   "source": [
    "def checkling(sample):\n",
    "    if len(sample)==3:\n",
    "        return sample+'ing'\n",
    "    elif 'ing' in sample:\n",
    "        return sample+'ly'\n",
    "    elif len(sample)>3:\n",
    "        return sample\n",
    "print(checkling('abc'))\n",
    "print(checkling('string'))"
   ]
  },
  {
   "cell_type": "markdown",
   "id": "781f1137-24e1-4e32-9e77-539d11a019f7",
   "metadata": {},
   "source": [
    "7. Write a Python function that takes a list of words and return the longest word and the length of the longest one. \n",
    "\n",
    "Output:\n",
    "\n",
    "Longest word: Exercises\n",
    "\n",
    "Length of the longest word: 9"
   ]
  },
  {
   "cell_type": "code",
   "execution_count": 39,
   "id": "e9a7722c-3c30-408e-b08f-5cfbe1d10852",
   "metadata": {},
   "outputs": [],
   "source": [
    "word_len.append((len(i), i))"
   ]
  },
  {
   "cell_type": "code",
   "execution_count": null,
   "id": "53d870ba-04bd-4c6c-af0c-087f08e757e9",
   "metadata": {},
   "outputs": [
    {
     "name": "stdout",
     "output_type": "stream",
     "text": [
      "\n",
      "Longest word:  Exercises\n",
      "Length of the longest word:  9\n"
     ]
    }
   ],
   "source": [
    "def find_longest_word(words_list):\n",
    "    word_len = []\n",
    "    for n in words_list:\n",
    "        word_len.append((len(n), n))\n",
    "    word_len.sort()\n",
    "    return word_len[-1][0], word_len[-1][1]\n",
    "result = find_longest_word([\"PHP\", \"Exercises\", \"Backend\"])\n",
    "print(\"\\nLongest word: \",result[1])\n",
    "print(\"Length of the longest word: \",result[0])\n"
   ]
  },
  {
   "cell_type": "code",
   "execution_count": null,
   "id": "cbe2a28f-44c5-4fc9-8c2f-6bfdf2eeb1a2",
   "metadata": {},
   "outputs": [],
   "source": [
    "word_len = []\n",
    "for n in lists:\n",
    "    lists.append((len(n), n))"
   ]
  },
  {
   "cell_type": "code",
   "execution_count": 1,
   "id": "ad12d585-62d6-429d-b02c-ba525f394848",
   "metadata": {},
   "outputs": [],
   "source": [
    "lists = ['shrishail','manjunatha','ravi','kiran','subhas']"
   ]
  },
  {
   "cell_type": "code",
   "execution_count": 3,
   "id": "9173b570-1176-4729-b83b-ecfccc4f9524",
   "metadata": {},
   "outputs": [],
   "source": [
    "l = []\n",
    "for i in lists:\n",
    "    l.append((len(i),i))"
   ]
  },
  {
   "cell_type": "code",
   "execution_count": 9,
   "id": "c913603b-467b-4a67-ae94-21f531413a5c",
   "metadata": {},
   "outputs": [
    {
     "data": {
      "text/plain": [
       "[(4, 'ravi'),\n",
       " (5, 'kiran'),\n",
       " (6, 'subhas'),\n",
       " (9, 'shrishail'),\n",
       " (10, 'manjunatha')]"
      ]
     },
     "execution_count": 9,
     "metadata": {},
     "output_type": "execute_result"
    }
   ],
   "source": [
    "l"
   ]
  },
  {
   "cell_type": "code",
   "execution_count": 11,
   "id": "8935a4e1-4e21-4115-a727-50fcea7b2d69",
   "metadata": {},
   "outputs": [
    {
     "data": {
      "text/plain": [
       "10"
      ]
     },
     "execution_count": 11,
     "metadata": {},
     "output_type": "execute_result"
    }
   ],
   "source": [
    "l[-1][0]"
   ]
  },
  {
   "cell_type": "code",
   "execution_count": 13,
   "id": "9f5cce03-3295-49c2-9115-797eb25a6218",
   "metadata": {},
   "outputs": [
    {
     "data": {
      "text/plain": [
       "'manjunatha'"
      ]
     },
     "execution_count": 13,
     "metadata": {},
     "output_type": "execute_result"
    }
   ],
   "source": [
    "l[-1][1]"
   ]
  },
  {
   "cell_type": "markdown",
   "id": "cb9dbee7-ac59-4915-b84e-cd7f797eefe1",
   "metadata": {},
   "source": [
    "8.Write a Python program to remove the nth index character from a nonempty string. "
   ]
  },
  {
   "cell_type": "code",
   "execution_count": 14,
   "id": "f639ffd2-547a-435a-92bd-6fb59fb573e3",
   "metadata": {},
   "outputs": [
    {
     "data": {
      "text/plain": [
       "['apple', 'banana', 'cherry', 'papaya', 'mango']"
      ]
     },
     "execution_count": 14,
     "metadata": {},
     "output_type": "execute_result"
    }
   ],
   "source": [
    "lis = ['apple','banana','cherry','papaya','mango']\n",
    "lis"
   ]
  },
  {
   "cell_type": "code",
   "execution_count": 16,
   "id": "eeb19f56-f129-43e8-8e42-8f351a34f565",
   "metadata": {},
   "outputs": [],
   "source": [
    "del lis[::2]"
   ]
  },
  {
   "cell_type": "code",
   "execution_count": 38,
   "id": "74496561-82f4-4e79-a222-00e5e4e3284f",
   "metadata": {},
   "outputs": [],
   "source": [
    "lis = 'manjunatha'\n",
    "a = lis[::2]"
   ]
  },
  {
   "cell_type": "code",
   "execution_count": 42,
   "id": "af02bcd6-aeff-4a87-a35e-67376052036c",
   "metadata": {},
   "outputs": [
    {
     "data": {
      "text/plain": [
       "'mnuah'"
      ]
     },
     "execution_count": 42,
     "metadata": {},
     "output_type": "execute_result"
    }
   ],
   "source": [
    "a"
   ]
  },
  {
   "cell_type": "code",
   "execution_count": 19,
   "id": "dc4a4456-58b7-4f5f-9e7f-a7470935fb4a",
   "metadata": {},
   "outputs": [
    {
     "name": "stdout",
     "output_type": "stream",
     "text": [
      "ython\n",
      "Pyton\n",
      "Pytho\n"
     ]
    }
   ],
   "source": [
    "def remove_char(str, n):\n",
    "    first_part = str[:n] \n",
    "    last_part = str[n+1:]\n",
    "    return first_part + last_part\n",
    "print(remove_char('Python', 0))\n",
    "print(remove_char('Python', 3))\n",
    "print(remove_char('Python', 5))\n"
   ]
  },
  {
   "cell_type": "markdown",
   "id": "1cfd250f-070a-414b-b0bb-52bbc390995b",
   "metadata": {},
   "source": [
    "9. Write a Python program to remove the characters which have odd index values of a given string."
   ]
  },
  {
   "cell_type": "code",
   "execution_count": 71,
   "id": "94a8d587-4079-4c05-9820-539800798374",
   "metadata": {},
   "outputs": [
    {
     "name": "stdout",
     "output_type": "stream",
     "text": [
      "1\n",
      "3\n",
      "5\n",
      "7\n",
      "9\n"
     ]
    }
   ],
   "source": [
    "lis = 'mathematics'\n",
    "for i in range(len(lis)):\n",
    "    if i%2!=0:\n",
    "        print(i)"
   ]
  },
  {
   "cell_type": "code",
   "execution_count": 63,
   "id": "f7b54ef0-13be-479e-b07c-781a7e5ceee2",
   "metadata": {},
   "outputs": [
    {
     "data": {
      "text/plain": [
       "'mteais'"
      ]
     },
     "execution_count": 63,
     "metadata": {},
     "output_type": "execute_result"
    }
   ],
   "source": [
    "lis[::2]"
   ]
  },
  {
   "cell_type": "code",
   "execution_count": 70,
   "id": "9c9e2948-95e6-4a96-8825-2b9b962023c3",
   "metadata": {},
   "outputs": [
    {
     "name": "stdout",
     "output_type": "stream",
     "text": [
      "m\n",
      "t\n",
      "e\n",
      "a\n",
      "i\n",
      "s\n"
     ]
    }
   ],
   "source": [
    "st = ''\n",
    "for i in range(len(lis)):\n",
    "    if i%2==0:\n",
    "        print(st+lis[i])"
   ]
  },
  {
   "cell_type": "markdown",
   "id": "63a73c80-791a-4762-a8cc-75f378a50946",
   "metadata": {},
   "source": [
    "10. Write a Python program to count the occurrences of each word in a given sentence"
   ]
  },
  {
   "cell_type": "code",
   "execution_count": 122,
   "id": "d8c2680f-bc86-437b-b650-4808202e8410",
   "metadata": {},
   "outputs": [],
   "source": [
    "a = 'the quick brown fox jumps over the lazy dog.'"
   ]
  },
  {
   "cell_type": "code",
   "execution_count": 128,
   "id": "3257eee5-699d-4bfa-ad66-f7ae95fa8dc4",
   "metadata": {},
   "outputs": [
    {
     "name": "stdout",
     "output_type": "stream",
     "text": [
      "{'the': 2, 'quick': 1, 'brown': 1, 'fox': 1, 'jumps': 1, 'over': 1, 'lazy': 1, 'dog.': 1}\n"
     ]
    }
   ],
   "source": [
    "def word_count(str):\n",
    "    counts = dict()\n",
    "    words = str.split()\n",
    "\n",
    "    for word in words:\n",
    "        if word in counts:\n",
    "            counts[word] += 1\n",
    "        else:\n",
    "            counts[word] = 1\n",
    "\n",
    "    return counts\n",
    "\n",
    "print( word_count('the quick brown fox jumps over the lazy dog.'))\n"
   ]
  },
  {
   "cell_type": "markdown",
   "id": "68d1a0bd-a106-4480-90a9-7e62979b7581",
   "metadata": {},
   "source": [
    "10. Write a Python script that takes input from the user and displays that input back in upper and lower cases."
   ]
  },
  {
   "cell_type": "code",
   "execution_count": 138,
   "id": "fb864d5a-541f-4df9-a0c7-797cd61ab87d",
   "metadata": {},
   "outputs": [
    {
     "name": "stdin",
     "output_type": "stream",
     "text": [
      "enter the python script:  shrishail\n",
      "enter the python script:  DONAJ\n"
     ]
    },
    {
     "name": "stdout",
     "output_type": "stream",
     "text": [
      "SHRISHAIL\n",
      "donaj\n"
     ]
    }
   ],
   "source": [
    "upper =input('enter the python script: ')\n",
    "lower =input('enter the python script: ')\n",
    "print(upper.upper())\n",
    "print(lower.lower())"
   ]
  },
  {
   "cell_type": "markdown",
   "id": "1c064710-4104-4d5c-ae3f-1019d282d9cb",
   "metadata": {},
   "source": [
    "11. Write a Python program that accepts a comma separated sequence of words as input and prints the unique words in sorted form (alphanumerically).\n",
    "\n",
    "Sample Words : red, white, black, red, green, black\n",
    "\n",
    "Expected Result : black, green, red, white,red"
   ]
  },
  {
   "cell_type": "code",
   "execution_count": null,
   "id": "2fa12a53-c5a7-47e0-9343-8a2c2f83088d",
   "metadata": {},
   "outputs": [],
   "source": [
    "words = input('enter comma seperated words: ')"
   ]
  },
  {
   "cell_type": "code",
   "execution_count": 2,
   "id": "569f7060-d733-4636-9e51-a64d69eef57f",
   "metadata": {},
   "outputs": [],
   "source": [
    "a = 'red white black red green black'"
   ]
  },
  {
   "cell_type": "code",
   "execution_count": 6,
   "id": "c6abad2a-7323-41e8-b635-1311c4662654",
   "metadata": {},
   "outputs": [
    {
     "data": {
      "text/plain": [
       "['black', 'green', 'red', 'white']"
      ]
     },
     "execution_count": 6,
     "metadata": {},
     "output_type": "execute_result"
    }
   ],
   "source": [
    "sorted(list(set(a.split())))"
   ]
  },
  {
   "cell_type": "code",
   "execution_count": 7,
   "id": "869bcda7-7f18-4551-b57b-fbbe740628b7",
   "metadata": {},
   "outputs": [
    {
     "name": "stdin",
     "output_type": "stream",
     "text": [
      "enter comma seperated words:  red white black red green black\n"
     ]
    },
    {
     "name": "stdout",
     "output_type": "stream",
     "text": [
      "red white black red green black\n"
     ]
    }
   ],
   "source": [
    "items = input('enter comma seperated words: ')\n",
    "words = [i for i in items.split(',')]\n",
    "print(\",\".join(sorted(set(words))))"
   ]
  },
  {
   "cell_type": "code",
   "execution_count": 10,
   "id": "174b3f2e-7507-4f91-85b2-4dd9cf941ae6",
   "metadata": {},
   "outputs": [],
   "source": [
    "items = 'red white black red green black'\n",
    "words = [i for i in items.split(',')]"
   ]
  },
  {
   "cell_type": "markdown",
   "id": "76c02c77-1010-465b-81ae-4109a6c896cd",
   "metadata": {},
   "source": [
    "12. Write a Python program to print the following floating numbers upto 2 decimal places12."
   ]
  },
  {
   "cell_type": "code",
   "execution_count": 1,
   "id": "5c5ca59d-73a9-4ad5-8fb2-79d5f7f145f4",
   "metadata": {},
   "outputs": [],
   "source": [
    "x = 12.2564866546\n",
    "y = 15.3658445489"
   ]
  },
  {
   "cell_type": "code",
   "execution_count": 5,
   "id": "8447950d-7955-4341-8384-c1bcc7e0a4d4",
   "metadata": {},
   "outputs": [
    {
     "name": "stdout",
     "output_type": "stream",
     "text": [
      "original number is:  12.2564866546\n",
      "formated decimal point is: 12.26\n",
      "original number is:  15.3658445489\n",
      "formated decimal point is: 15.37\n"
     ]
    }
   ],
   "source": [
    "print('original number is: ',x)\n",
    "print('formated decimal point is: '+'{:.2f}'.format(x))\n",
    "print('original number is: ',y)\n",
    "print('formated decimal point is: '+'{:.2f}'.format(y))"
   ]
  },
  {
   "cell_type": "markdown",
   "id": "766e7733-c0ba-4e33-a9f9-df2425f2e38e",
   "metadata": {},
   "source": [
    "13. Write a Python program to print the following floating numbers upto 2 decimal places with a sign."
   ]
  },
  {
   "cell_type": "code",
   "execution_count": 10,
   "id": "6a4d63cb-25d0-4c0e-8f75-a393656e8ef7",
   "metadata": {},
   "outputs": [
    {
     "name": "stdout",
     "output_type": "stream",
     "text": [
      "original number is:  12.2564866546\n",
      "formated decimal point with sign: +12.26\n",
      "original number is:  -15.3658445489\n",
      "formated decimal point with sign: -15.37\n"
     ]
    }
   ],
   "source": [
    "x = 12.2564866546\n",
    "y = -15.3658445489\n",
    "\n",
    "print('original number is: ',x)\n",
    "print('formated decimal point with sign: '+'{:+.2f}'.format(x))\n",
    "print('original number is: ',y)\n",
    "print('formated decimal point with sign: '+'{:+.2f}'.format(y))"
   ]
  },
  {
   "cell_type": "markdown",
   "id": "63995e2e-134d-487c-9421-6ea24811e0fb",
   "metadata": {},
   "source": [
    "14. Write a Python program to print the following floating numbers with no decimal places."
   ]
  },
  {
   "cell_type": "code",
   "execution_count": 12,
   "id": "dc939fb5-6f29-45e0-998e-bc9ed6754a43",
   "metadata": {},
   "outputs": [],
   "source": [
    "x = 12.2564866546\n",
    "y = 15.3658445489"
   ]
  },
  {
   "cell_type": "code",
   "execution_count": 21,
   "id": "9ec8a979-1fe8-4813-b441-68cf22dea4b8",
   "metadata": {},
   "outputs": [
    {
     "name": "stdout",
     "output_type": "stream",
     "text": [
      "original number:  12.2564866546\n",
      "no decimal number only whole number: 12\n",
      "original number:  15.3658445489\n",
      "no decimal number only whole number: 15\n"
     ]
    }
   ],
   "source": [
    "print('original number: ',x)\n",
    "print('no decimal number only whole number: {:.0f}'.format(x))\n",
    "print('original number: ',y)\n",
    "print('no decimal number only whole number: {:.0f}'.format(y))"
   ]
  },
  {
   "cell_type": "code",
   "execution_count": 28,
   "id": "45927a63-43b9-49be-8bec-1aa383d3225b",
   "metadata": {},
   "outputs": [
    {
     "name": "stdout",
     "output_type": "stream",
     "text": [
      "with percentage: 25%\n"
     ]
    }
   ],
   "source": [
    "a = 0.25\n",
    "print('with percentage: {:.0%}'.format(a))"
   ]
  },
  {
   "cell_type": "code",
   "execution_count": null,
   "id": "c3f63e7a-63d7-4a7a-8ff1-e7b2b0bf9456",
   "metadata": {},
   "outputs": [],
   "source": []
  }
 ],
 "metadata": {
  "kernelspec": {
   "display_name": "Python 3 (ipykernel)",
   "language": "python",
   "name": "python3"
  },
  "language_info": {
   "codemirror_mode": {
    "name": "ipython",
    "version": 3
   },
   "file_extension": ".py",
   "mimetype": "text/x-python",
   "name": "python",
   "nbconvert_exporter": "python",
   "pygments_lexer": "ipython3",
   "version": "3.10.6"
  }
 },
 "nbformat": 4,
 "nbformat_minor": 5
}
